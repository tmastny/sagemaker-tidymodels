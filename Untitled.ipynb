{
 "cells": [
  {
   "cell_type": "code",
   "execution_count": 1,
   "metadata": {},
   "outputs": [],
   "source": [
    "import boto3\n",
    "import sagemaker"
   ]
  },
  {
   "cell_type": "code",
   "execution_count": 2,
   "metadata": {},
   "outputs": [],
   "source": [
    "region = boto3.session.Session().region_name\n",
    "role = !aws configure get role_arn --profile sagemaker\n",
    "role = role[0]"
   ]
  },
  {
   "cell_type": "code",
   "execution_count": null,
   "metadata": {},
   "outputs": [],
   "source": []
  },
  {
   "cell_type": "code",
   "execution_count": 13,
   "metadata": {},
   "outputs": [],
   "source": [
    "import json"
   ]
  },
  {
   "cell_type": "code",
   "execution_count": 7,
   "metadata": {},
   "outputs": [],
   "source": [
    "image_json = !aws ecr describe-repositories --repository-names \"sagemaker-tidymodels\""
   ]
  },
  {
   "cell_type": "code",
   "execution_count": 18,
   "metadata": {},
   "outputs": [],
   "source": [
    "image_uri = json.loads(\"\".join(image_json))['repositories'][0]['repositoryArn']"
   ]
  },
  {
   "cell_type": "code",
   "execution_count": null,
   "metadata": {},
   "outputs": [],
   "source": []
  },
  {
   "cell_type": "code",
   "execution_count": 25,
   "metadata": {},
   "outputs": [],
   "source": [
    "from sagemaker.estimator import Framework\n",
    "from sagemaker.model import FrameworkModel\n",
    "from sagemaker.predictor import RealTimePredictor"
   ]
  },
  {
   "cell_type": "code",
   "execution_count": 45,
   "metadata": {},
   "outputs": [],
   "source": [
    "class TidyModelsPredictor(RealTimePredictor):\n",
    "    def __init__(self, endpoint_name, sagemaker_session=None):\n",
    "        super(TidyModelsPredictor, self).__init__(\n",
    "            endpoint_name, sagemaker_session\n",
    "        )"
   ]
  },
  {
   "cell_type": "code",
   "execution_count": 52,
   "metadata": {},
   "outputs": [],
   "source": [
    "class TidyModelsModel(FrameworkModel):\n",
    "    __framework_name__ = \"tidymodels\"\n",
    "    \n",
    "    def __init__(self, **kwargs):\n",
    "        super(TidyModelsModel, self).__init__(**kwargs)\n",
    "        \n",
    "        \n",
    "class TidyModels(Framework):\n",
    "    def __init__(self, **kwargs):\n",
    "        super(TidyModels, self).__init__(**kwargs)\n",
    "        \n",
    "    def create_model(self, **kwargs):\n",
    "        return TidyModelsModel(**kwargs)\n",
    "        "
   ]
  },
  {
   "cell_type": "code",
   "execution_count": 61,
   "metadata": {},
   "outputs": [
    {
     "name": "stderr",
     "output_type": "stream",
     "text": [
      "WARNING:root:Parameter image_name will be renamed to image_uri in SageMaker Python SDK v2.\n"
     ]
    }
   ],
   "source": [
    "tidymodels = TidyModels(\n",
    "    entry_point=\"R/Untitled.R\",\n",
    "    train_instance_count=1,\n",
    "    train_instance_type=\"local\",\n",
    "    role=role,\n",
    "    image_name='sagemaker-tidymodels'\n",
    ")"
   ]
  },
  {
   "cell_type": "code",
   "execution_count": 65,
   "metadata": {},
   "outputs": [
    {
     "name": "stdout",
     "output_type": "stream",
     "text": [
      "Creating tmp1e3kc4t5_algo-1-tz712_1 ... \n",
      "\u001b[1BAttaching to tmp1e3kc4t5_algo-1-tz712_12mdone\u001b[0m\n",
      "\u001b[36malgo-1-tz712_1  |\u001b[0m [1] \"train\"\n",
      "\u001b[36malgo-1-tz712_1  |\u001b[0m [1] \"hello train\"\n",
      "\u001b[36mtmp1e3kc4t5_algo-1-tz712_1 exited with code 0\n",
      "\u001b[0mAborting on container exit...\n",
      "===== Job Complete =====\n"
     ]
    }
   ],
   "source": [
    "tidymodels.fit()"
   ]
  },
  {
   "cell_type": "code",
   "execution_count": null,
   "metadata": {},
   "outputs": [],
   "source": []
  },
  {
   "cell_type": "code",
   "execution_count": null,
   "metadata": {},
   "outputs": [],
   "source": []
  },
  {
   "cell_type": "code",
   "execution_count": null,
   "metadata": {},
   "outputs": [],
   "source": []
  },
  {
   "cell_type": "code",
   "execution_count": null,
   "metadata": {},
   "outputs": [],
   "source": []
  },
  {
   "cell_type": "code",
   "execution_count": null,
   "metadata": {},
   "outputs": [],
   "source": []
  },
  {
   "cell_type": "code",
   "execution_count": null,
   "metadata": {},
   "outputs": [],
   "source": []
  },
  {
   "cell_type": "code",
   "execution_count": null,
   "metadata": {},
   "outputs": [],
   "source": []
  }
 ],
 "metadata": {
  "kernelspec": {
   "display_name": "Python 3",
   "language": "python",
   "name": "python3"
  },
  "language_info": {
   "codemirror_mode": {
    "name": "ipython",
    "version": 3
   },
   "file_extension": ".py",
   "mimetype": "text/x-python",
   "name": "python",
   "nbconvert_exporter": "python",
   "pygments_lexer": "ipython3",
   "version": "3.7.7"
  }
 },
 "nbformat": 4,
 "nbformat_minor": 4
}
