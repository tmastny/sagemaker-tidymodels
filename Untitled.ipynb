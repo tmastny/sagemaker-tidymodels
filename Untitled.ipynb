{
 "cells": [
  {
   "cell_type": "code",
   "execution_count": 1,
   "metadata": {},
   "outputs": [],
   "source": [
    "import boto3\n",
    "import sagemaker"
   ]
  },
  {
   "cell_type": "code",
   "execution_count": 2,
   "metadata": {},
   "outputs": [],
   "source": [
    "region = boto3.session.Session().region_name\n",
    "role = !aws configure get role_arn --profile sagemaker\n",
    "role = role[0]"
   ]
  },
  {
   "cell_type": "code",
   "execution_count": null,
   "metadata": {},
   "outputs": [],
   "source": []
  },
  {
   "cell_type": "code",
   "execution_count": 3,
   "metadata": {},
   "outputs": [],
   "source": [
    "import json"
   ]
  },
  {
   "cell_type": "code",
   "execution_count": 4,
   "metadata": {},
   "outputs": [],
   "source": [
    "image_json = !aws ecr describe-repositories --repository-names \"sagemaker-tidymodels\""
   ]
  },
  {
   "cell_type": "code",
   "execution_count": 5,
   "metadata": {},
   "outputs": [],
   "source": [
    "image_uri = json.loads(\"\".join(image_json))['repositories'][0]['repositoryArn']"
   ]
  },
  {
   "cell_type": "code",
   "execution_count": null,
   "metadata": {},
   "outputs": [],
   "source": []
  },
  {
   "cell_type": "code",
   "execution_count": 6,
   "metadata": {},
   "outputs": [],
   "source": [
    "from sagemaker.estimator import Framework\n",
    "from sagemaker.model import FrameworkModel\n",
    "from sagemaker.predictor import RealTimePredictor"
   ]
  },
  {
   "cell_type": "code",
   "execution_count": 7,
   "metadata": {},
   "outputs": [],
   "source": [
    "class TidyModelsPredictor(RealTimePredictor):\n",
    "    def __init__(self, endpoint_name, sagemaker_session=None, **kwargs):\n",
    "        super(TidyModelsPredictor, self).__init__(\n",
    "            endpoint_name, \n",
    "            sagemaker_session=sagemaker_session, \n",
    "            **kwargs\n",
    "        )"
   ]
  },
  {
   "cell_type": "code",
   "execution_count": 8,
   "metadata": {},
   "outputs": [],
   "source": [
    "class TidyModelsModel(FrameworkModel):\n",
    "    \n",
    "    # `FrameworkModel` accepts a `dependencies` argument to make more code availabe\n",
    "    # in `/opt/ml/code`: https://github.com/aws/sagemaker-python-sdk/blob/8b2d5c8d73236b59bca6fdcaf96f227a01488288/src/sagemaker/model.py#L704-L712\n",
    "    \n",
    "    __framework_name__ = \"tidymodels\"\n",
    "    \n",
    "    def __init__(\n",
    "        self, \n",
    "        model_data, \n",
    "        image, role, \n",
    "        entry_point, \n",
    "        predictor_cls=TidyModelsPredictor, \n",
    "        **kwargs\n",
    "    ):\n",
    "        super(TidyModelsModel, self).__init__(\n",
    "            model_data,\n",
    "            image,\n",
    "            role,\n",
    "            entry_point,\n",
    "            predictor_cls=predictor_cls,\n",
    "            **kwargs\n",
    "        )\n",
    "        \n",
    "        \n",
    "class TidyModels(Framework):\n",
    "    def __init__(self, **kwargs):\n",
    "        super(TidyModels, self).__init__(**kwargs)\n",
    "        \n",
    "    def create_model(self, **kwargs):\n",
    "        # todo: entry_point=None, replace to use a specific serve script\n",
    "        # uses self or supplied entry_point: https://github.com/aws/sagemaker-python-sdk/blob/1872483681a6647bdad126b8214fb6cc35e164fd/src/sagemaker/sklearn/estimator.py#L204\n",
    "        return TidyModelsModel(\n",
    "            entry_point=self.entry_point,\n",
    "            image=self.image_name,\n",
    "            role=self.role,\n",
    "            model_data=self.model_data,\n",
    "            **kwargs\n",
    "        )"
   ]
  },
  {
   "cell_type": "code",
   "execution_count": 9,
   "metadata": {},
   "outputs": [
    {
     "name": "stderr",
     "output_type": "stream",
     "text": [
      "WARNING:root:Parameter image_name will be renamed to image_uri in SageMaker Python SDK v2.\n"
     ]
    }
   ],
   "source": [
    "tidymodels = TidyModels(\n",
    "    entry_point=\"R/train.R\",\n",
    "    train_instance_count=1,\n",
    "    train_instance_type=\"local\",\n",
    "    role=role,\n",
    "    image_name='sagemaker-tidymodels'\n",
    ")"
   ]
  },
  {
   "cell_type": "code",
   "execution_count": 10,
   "metadata": {},
   "outputs": [
    {
     "name": "stderr",
     "output_type": "stream",
     "text": [
      "WARNING:sagemaker:'s3_input' class will be renamed to 'TrainingInput' in SageMaker Python SDK v2.\n"
     ]
    },
    {
     "name": "stdout",
     "output_type": "stream",
     "text": [
      "Creating tmppjtsk2kl_algo-1-3urz0_1 ... \n",
      "\u001b[1BAttaching to tmppjtsk2kl_algo-1-3urz0_12mdone\u001b[0m\n",
      "\u001b[36malgo-1-3urz0_1  |\u001b[0m am I here in entry?\n",
      "\u001b[36malgo-1-3urz0_1  |\u001b[0m we training boiz!!!\n",
      "\u001b[36malgo-1-3urz0_1  |\u001b[0m Loading required package: dplyr\n",
      "\u001b[36malgo-1-3urz0_1  |\u001b[0m \n",
      "\u001b[36malgo-1-3urz0_1  |\u001b[0m Attaching package: ‘dplyr’\n",
      "\u001b[36malgo-1-3urz0_1  |\u001b[0m \n",
      "\u001b[36malgo-1-3urz0_1  |\u001b[0m The following objects are masked from ‘package:stats’:\n",
      "\u001b[36malgo-1-3urz0_1  |\u001b[0m \n",
      "\u001b[36malgo-1-3urz0_1  |\u001b[0m     filter, lag\n",
      "\u001b[36malgo-1-3urz0_1  |\u001b[0m \n",
      "\u001b[36malgo-1-3urz0_1  |\u001b[0m The following objects are masked from ‘package:base’:\n",
      "\u001b[36malgo-1-3urz0_1  |\u001b[0m \n",
      "\u001b[36malgo-1-3urz0_1  |\u001b[0m     intersect, setdiff, setequal, union\n",
      "\u001b[36malgo-1-3urz0_1  |\u001b[0m \n",
      "\u001b[36malgo-1-3urz0_1  |\u001b[0m \n",
      "\u001b[36malgo-1-3urz0_1  |\u001b[0m Attaching package: ‘recipes’\n",
      "\u001b[36malgo-1-3urz0_1  |\u001b[0m \n",
      "\u001b[36malgo-1-3urz0_1  |\u001b[0m The following object is masked from ‘package:stats’:\n",
      "\u001b[36malgo-1-3urz0_1  |\u001b[0m \n",
      "\u001b[36malgo-1-3urz0_1  |\u001b[0m     step\n",
      "\u001b[36malgo-1-3urz0_1  |\u001b[0m \n",
      "\u001b[36malgo-1-3urz0_1  |\u001b[0m \n",
      "\u001b[36malgo-1-3urz0_1  |\u001b[0m Attaching package: ‘janitor’\n",
      "\u001b[36malgo-1-3urz0_1  |\u001b[0m \n",
      "\u001b[36malgo-1-3urz0_1  |\u001b[0m The following objects are masked from ‘package:stats’:\n",
      "\u001b[36malgo-1-3urz0_1  |\u001b[0m \n",
      "\u001b[36malgo-1-3urz0_1  |\u001b[0m     chisq.test, fisher.test\n",
      "\u001b[36malgo-1-3urz0_1  |\u001b[0m \n",
      "\u001b[36malgo-1-3urz0_1  |\u001b[0m character(0)\n",
      "\u001b[36malgo-1-3urz0_1  |\u001b[0m R version 4.0.0 (2020-04-24)\n",
      "\u001b[36malgo-1-3urz0_1  |\u001b[0m Platform: x86_64-pc-linux-gnu (64-bit)\n",
      "\u001b[36malgo-1-3urz0_1  |\u001b[0m Running under: Ubuntu 18.04.4 LTS\n",
      "\u001b[36malgo-1-3urz0_1  |\u001b[0m \n",
      "\u001b[36malgo-1-3urz0_1  |\u001b[0m Matrix products: default\n",
      "\u001b[36malgo-1-3urz0_1  |\u001b[0m BLAS/LAPACK: /usr/lib/x86_64-linux-gnu/libopenblasp-r0.2.20.so\n",
      "\u001b[36malgo-1-3urz0_1  |\u001b[0m \n",
      "\u001b[36malgo-1-3urz0_1  |\u001b[0m locale:\n",
      "\u001b[36malgo-1-3urz0_1  |\u001b[0m  [1] LC_CTYPE=en_US.UTF-8       LC_NUMERIC=C              \n",
      "\u001b[36malgo-1-3urz0_1  |\u001b[0m  [3] LC_TIME=en_US.UTF-8        LC_COLLATE=en_US.UTF-8    \n",
      "\u001b[36malgo-1-3urz0_1  |\u001b[0m  [5] LC_MONETARY=en_US.UTF-8    LC_MESSAGES=C             \n",
      "\u001b[36malgo-1-3urz0_1  |\u001b[0m  [7] LC_PAPER=en_US.UTF-8       LC_NAME=C                 \n",
      "\u001b[36malgo-1-3urz0_1  |\u001b[0m  [9] LC_ADDRESS=C               LC_TELEPHONE=C            \n",
      "\u001b[36malgo-1-3urz0_1  |\u001b[0m [11] LC_MEASUREMENT=en_US.UTF-8 LC_IDENTIFICATION=C       \n",
      "\u001b[36malgo-1-3urz0_1  |\u001b[0m \n",
      "\u001b[36malgo-1-3urz0_1  |\u001b[0m attached base packages:\n",
      "\u001b[36malgo-1-3urz0_1  |\u001b[0m [1] stats     graphics  grDevices utils     datasets  methods   base     \n",
      "\u001b[36malgo-1-3urz0_1  |\u001b[0m \n",
      "\u001b[36malgo-1-3urz0_1  |\u001b[0m other attached packages:\n",
      "\u001b[36malgo-1-3urz0_1  |\u001b[0m [1] janitor_2.0.1   rsample_0.0.7   workflows_0.1.1 parsnip_0.1.1  \n",
      "\u001b[36malgo-1-3urz0_1  |\u001b[0m [5] recipes_0.1.12  dplyr_1.0.0     readr_1.3.1    \n",
      "\u001b[36malgo-1-3urz0_1  |\u001b[0m \n",
      "\u001b[36malgo-1-3urz0_1  |\u001b[0m loaded via a namespace (and not attached):\n",
      "\u001b[36malgo-1-3urz0_1  |\u001b[0m  [1] Rcpp_1.0.4.6       pillar_1.4.4       compiler_4.0.0     gower_0.2.1       \n",
      "\u001b[36malgo-1-3urz0_1  |\u001b[0m  [5] tools_4.0.0        class_7.3-16       digest_0.6.25      rpart_4.1-15      \n",
      "\u001b[36malgo-1-3urz0_1  |\u001b[0m  [9] ipred_0.9-9        lubridate_1.7.8    lifecycle_0.2.0    tibble_3.0.1      \n",
      "\u001b[36malgo-1-3urz0_1  |\u001b[0m [13] lattice_0.20-41    pkgconfig_2.0.3    rlang_0.4.6        Matrix_1.2-18     \n",
      "\u001b[36malgo-1-3urz0_1  |\u001b[0m [17] parallel_4.0.0     prodlim_2019.11.13 stringr_1.4.0      furrr_0.1.0       \n",
      "\u001b[36malgo-1-3urz0_1  |\u001b[0m [21] withr_2.2.0        globals_0.12.5     generics_0.0.2     vctrs_0.3.1       \n",
      "\u001b[36malgo-1-3urz0_1  |\u001b[0m [25] hms_0.5.3          grid_4.0.0         nnet_7.3-13        tidyselect_1.1.0  \n",
      "\u001b[36malgo-1-3urz0_1  |\u001b[0m [29] snakecase_0.11.0   glue_1.4.1         listenv_0.8.0      R6_2.4.1          \n",
      "\u001b[36malgo-1-3urz0_1  |\u001b[0m [33] survival_3.1-12    lava_1.6.7         purrr_0.3.4        tidyr_1.1.0       \n",
      "\u001b[36malgo-1-3urz0_1  |\u001b[0m [37] magrittr_1.5       codetools_0.2-16   ellipsis_0.3.1     MASS_7.3-51.5     \n",
      "\u001b[36malgo-1-3urz0_1  |\u001b[0m [41] splines_4.0.0      future_1.17.0      timeDate_3043.102  stringi_1.4.6     \n",
      "\u001b[36malgo-1-3urz0_1  |\u001b[0m [45] crayon_1.3.4      \n",
      "\u001b[36malgo-1-3urz0_1  |\u001b[0m [1] \"/opt/ml/input/data/train/census-income.csv\"\n",
      "\u001b[36malgo-1-3urz0_1  |\u001b[0m Parsed with column specification:\n",
      "\u001b[36malgo-1-3urz0_1  |\u001b[0m cols(\n",
      "\u001b[36malgo-1-3urz0_1  |\u001b[0m   .default = col_character(),\n",
      "\u001b[36malgo-1-3urz0_1  |\u001b[0m   age = \u001b[32mcol_double()\u001b[39m,\n",
      "\u001b[36malgo-1-3urz0_1  |\u001b[0m   `detailed industry recode` = \u001b[32mcol_double()\u001b[39m,\n",
      "\u001b[36malgo-1-3urz0_1  |\u001b[0m   `detailed occupation recode` = \u001b[32mcol_double()\u001b[39m,\n",
      "\u001b[36malgo-1-3urz0_1  |\u001b[0m   `wage per hour` = \u001b[32mcol_double()\u001b[39m,\n",
      "\u001b[36malgo-1-3urz0_1  |\u001b[0m   `capital gains` = \u001b[32mcol_double()\u001b[39m,\n",
      "\u001b[36malgo-1-3urz0_1  |\u001b[0m   `capital losses` = \u001b[32mcol_double()\u001b[39m,\n",
      "\u001b[36malgo-1-3urz0_1  |\u001b[0m   `dividends from stocks` = \u001b[32mcol_double()\u001b[39m,\n",
      "\u001b[36malgo-1-3urz0_1  |\u001b[0m   `instance weight` = \u001b[32mcol_double()\u001b[39m,\n",
      "\u001b[36malgo-1-3urz0_1  |\u001b[0m   `num persons worked for employer` = \u001b[32mcol_double()\u001b[39m,\n",
      "\u001b[36malgo-1-3urz0_1  |\u001b[0m   `own business or self employed` = \u001b[32mcol_double()\u001b[39m,\n",
      "\u001b[36malgo-1-3urz0_1  |\u001b[0m   `veterans benefits` = \u001b[32mcol_double()\u001b[39m,\n",
      "\u001b[36malgo-1-3urz0_1  |\u001b[0m   `weeks worked in year` = \u001b[32mcol_double()\u001b[39m,\n",
      "\u001b[36malgo-1-3urz0_1  |\u001b[0m   year = \u001b[32mcol_double()\u001b[39m\n",
      "\u001b[36malgo-1-3urz0_1  |\u001b[0m )\n",
      "\u001b[36malgo-1-3urz0_1  |\u001b[0m See spec(...) for full column specifications.\n",
      "\u001b[36malgo-1-3urz0_1  |\u001b[0m [1] \"split\"\n",
      "\u001b[36malgo-1-3urz0_1  |\u001b[0m [1] \"recipe\"\n",
      "\u001b[36malgo-1-3urz0_1  |\u001b[0m [1] \"model\"\n",
      "\u001b[36malgo-1-3urz0_1  |\u001b[0m [1] \"fit\"\n",
      "\u001b[36malgo-1-3urz0_1  |\u001b[0m Warning messages:\n",
      "\u001b[36malgo-1-3urz0_1  |\u001b[0m 1: Data not binned; too few unique values per bin. Adjust 'min_unique' as needed \n",
      "\u001b[36malgo-1-3urz0_1  |\u001b[0m 2: Data not binned; too few unique values per bin. Adjust 'min_unique' as needed \n",
      "\u001b[36malgo-1-3urz0_1  |\u001b[0m [1] \"/opt/ml/model/model.RDS\"\n",
      "\u001b[36mtmppjtsk2kl_algo-1-3urz0_1 exited with code 0\n",
      "\u001b[0mAborting on container exit...\n",
      "===== Job Complete =====\n"
     ]
    }
   ],
   "source": [
    "logs = tidymodels.fit({'train': 's3://sagemaker-sample-data-us-east-2/processing/census/census-income.csv'})"
   ]
  },
  {
   "cell_type": "code",
   "execution_count": 11,
   "metadata": {},
   "outputs": [
    {
     "data": {
      "text/plain": [
       "'s3://sagemaker-us-east-2-495577990003/sagemaker-tidymodels-2020-07-25-01-50-14-732/model.tar.gz'"
      ]
     },
     "execution_count": 11,
     "metadata": {},
     "output_type": "execute_result"
    }
   ],
   "source": [
    "tidymodels.model_data"
   ]
  },
  {
   "cell_type": "code",
   "execution_count": 12,
   "metadata": {},
   "outputs": [],
   "source": [
    "# recipes is out of date on docker??\n",
    "# couldn't figure out why, but I fixed it by changing some of the name vectors\n",
    "\n",
    "# instance_type=\"ml.t2.medium\""
   ]
  },
  {
   "cell_type": "code",
   "execution_count": 41,
   "metadata": {},
   "outputs": [
    {
     "name": "stderr",
     "output_type": "stream",
     "text": [
      "WARNING:sagemaker:Parameter image will be renamed to image_uri in SageMaker Python SDK v2.\n",
      "WARNING:urllib3.connectionpool:Retrying (Retry(total=2, connect=None, read=None, redirect=None, status=None)) after connection broken by 'NewConnectionError('<urllib3.connection.HTTPConnection object at 0x11ce28490>: Failed to establish a new connection: [Errno 61] Connection refused')': /ping\n",
      "WARNING:urllib3.connectionpool:Retrying (Retry(total=1, connect=None, read=None, redirect=None, status=None)) after connection broken by 'NewConnectionError('<urllib3.connection.HTTPConnection object at 0x11ce28510>: Failed to establish a new connection: [Errno 61] Connection refused')': /ping\n",
      "WARNING:urllib3.connectionpool:Retrying (Retry(total=0, connect=None, read=None, redirect=None, status=None)) after connection broken by 'NewConnectionError('<urllib3.connection.HTTPConnection object at 0x11ce28890>: Failed to establish a new connection: [Errno 61] Connection refused')': /ping\n"
     ]
    },
    {
     "name": "stdout",
     "output_type": "stream",
     "text": [
      "Attaching to tmp5xlft1bp_algo-1-bquz7_1\n",
      "\u001b[36malgo-1-bquz7_1  |\u001b[0m [1] \"hello starting plumber...\"\n",
      "\u001b[36malgo-1-bquz7_1  |\u001b[0m Loading required package: dplyr\n",
      "\u001b[36malgo-1-bquz7_1  |\u001b[0m \n",
      "\u001b[36malgo-1-bquz7_1  |\u001b[0m Attaching package: ‘dplyr’\n",
      "\u001b[36malgo-1-bquz7_1  |\u001b[0m \n",
      "\u001b[36malgo-1-bquz7_1  |\u001b[0m The following objects are masked from ‘package:stats’:\n",
      "\u001b[36malgo-1-bquz7_1  |\u001b[0m \n",
      "\u001b[36malgo-1-bquz7_1  |\u001b[0m     filter, lag\n",
      "\u001b[36malgo-1-bquz7_1  |\u001b[0m \n",
      "\u001b[36malgo-1-bquz7_1  |\u001b[0m The following objects are masked from ‘package:base’:\n",
      "\u001b[36malgo-1-bquz7_1  |\u001b[0m \n",
      "\u001b[36malgo-1-bquz7_1  |\u001b[0m     intersect, setdiff, setequal, union\n",
      "\u001b[36malgo-1-bquz7_1  |\u001b[0m \n",
      "\u001b[36malgo-1-bquz7_1  |\u001b[0m \n",
      "\u001b[36malgo-1-bquz7_1  |\u001b[0m Attaching package: ‘recipes’\n",
      "\u001b[36malgo-1-bquz7_1  |\u001b[0m \n",
      "\u001b[36malgo-1-bquz7_1  |\u001b[0m The following object is masked from ‘package:stats’:\n",
      "\u001b[36malgo-1-bquz7_1  |\u001b[0m \n",
      "\u001b[36malgo-1-bquz7_1  |\u001b[0m     step\n",
      "\u001b[36malgo-1-bquz7_1  |\u001b[0m \n",
      "\u001b[36malgo-1-bquz7_1  |\u001b[0m Starting server to listen on port 8080\n",
      "!"
     ]
    }
   ],
   "source": [
    "predictor = tidymodels.deploy(initial_instance_count=1, instance_type='local')"
   ]
  },
  {
   "cell_type": "code",
   "execution_count": 42,
   "metadata": {},
   "outputs": [],
   "source": [
    "example_data = r'73,Not in universe,0,0,High school graduate,0,Not in universe,Widowed,Not in universe or children,Not in universe,White,All other,Female,Not in universe,Not in universe,Not in labor force,0,0,0,Nonfiler,Not in universe,Not in universe,Other Rel 18+ ever marr not in subfamily,Other relative of householder,1700.09,?,?,?,Not in universe under 1 year old,?,0,Not in universe,United-States,United-States,United-States,Native- Born in the United States,0,Not in universe,2,0,95,- 50000.\\n'"
   ]
  },
  {
   "cell_type": "code",
   "execution_count": 43,
   "metadata": {},
   "outputs": [
    {
     "name": "stdout",
     "output_type": "stream",
     "text": [
      "\u001b[36malgo-1-bquz7_1  |\u001b[0m Warning in predict.lm(object, newdata, se.fit, scale = 1, type = if (type ==  :\r\n",
      "\u001b[36malgo-1-bquz7_1  |\u001b[0m   prediction from a rank-deficient fit may be misleading\r\n"
     ]
    },
    {
     "data": {
      "text/plain": [
       "b'[\"- 50000.\"]'"
      ]
     },
     "execution_count": 43,
     "metadata": {},
     "output_type": "execute_result"
    }
   ],
   "source": [
    "# string output without deserializer\n",
    "predictor.predict(example_data)"
   ]
  },
  {
   "cell_type": "code",
   "execution_count": 44,
   "metadata": {},
   "outputs": [],
   "source": [
    "import numpy as np"
   ]
  },
  {
   "cell_type": "code",
   "execution_count": 28,
   "metadata": {},
   "outputs": [
    {
     "data": {
      "text/plain": [
       "'0,1'"
      ]
     },
     "execution_count": 28,
     "metadata": {},
     "output_type": "execute_result"
    }
   ],
   "source": [
    "sagemaker.predictor.csv_serializer(np.array([0, 1]))"
   ]
  },
  {
   "cell_type": "code",
   "execution_count": null,
   "metadata": {},
   "outputs": [],
   "source": []
  },
  {
   "cell_type": "code",
   "execution_count": 45,
   "metadata": {},
   "outputs": [],
   "source": [
    "predictor.content_type = 'application/json'\n",
    "predictor.deserializer = sagemaker.predictor.json_deserializer"
   ]
  },
  {
   "cell_type": "code",
   "execution_count": 46,
   "metadata": {},
   "outputs": [
    {
     "name": "stdout",
     "output_type": "stream",
     "text": [
      "\u001b[36malgo-1-bquz7_1  |\u001b[0m Warning in predict.lm(object, newdata, se.fit, scale = 1, type = if (type ==  :\r\n",
      "\u001b[36malgo-1-bquz7_1  |\u001b[0m   prediction from a rank-deficient fit may be misleading\r\n"
     ]
    }
   ],
   "source": [
    "# list of values with json_deserializer\n",
    "pred2 = predictor.predict(example_data)"
   ]
  },
  {
   "cell_type": "code",
   "execution_count": 47,
   "metadata": {},
   "outputs": [
    {
     "name": "stdout",
     "output_type": "stream",
     "text": [
      "['- 50000.']\n"
     ]
    },
    {
     "data": {
      "text/plain": [
       "'- 50000.'"
      ]
     },
     "execution_count": 47,
     "metadata": {},
     "output_type": "execute_result"
    }
   ],
   "source": [
    "print(pred2)\n",
    "pred2[0]"
   ]
  },
  {
   "cell_type": "code",
   "execution_count": 48,
   "metadata": {},
   "outputs": [],
   "source": [
    "# {sagemaker} always return a string, and then has a separate R process\n",
    "# to format the string json or csv into an R object. \n",
    "# This is probably (??) more efficient than letting python deserialize into a\n",
    "# numpy array and then copy that into an R array. See here: https://rstudio.github.io/reticulate/articles/arrays.html"
   ]
  },
  {
   "cell_type": "code",
   "execution_count": null,
   "metadata": {},
   "outputs": [],
   "source": []
  }
 ],
 "metadata": {
  "kernelspec": {
   "display_name": "Python 3",
   "language": "python",
   "name": "python3"
  },
  "language_info": {
   "codemirror_mode": {
    "name": "ipython",
    "version": 3
   },
   "file_extension": ".py",
   "mimetype": "text/x-python",
   "name": "python",
   "nbconvert_exporter": "python",
   "pygments_lexer": "ipython3",
   "version": "3.7.7"
  }
 },
 "nbformat": 4,
 "nbformat_minor": 4
}
