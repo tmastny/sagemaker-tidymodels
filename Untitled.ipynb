{
 "cells": [
  {
   "cell_type": "code",
   "execution_count": 1,
   "metadata": {},
   "outputs": [],
   "source": [
    "import boto3\n",
    "import sagemaker"
   ]
  },
  {
   "cell_type": "code",
   "execution_count": 2,
   "metadata": {},
   "outputs": [],
   "source": [
    "region = boto3.session.Session().region_name\n",
    "role = !aws configure get role_arn --profile sagemaker\n",
    "role = role[0]"
   ]
  },
  {
   "cell_type": "code",
   "execution_count": null,
   "metadata": {},
   "outputs": [],
   "source": []
  },
  {
   "cell_type": "code",
   "execution_count": 3,
   "metadata": {},
   "outputs": [],
   "source": [
    "import json"
   ]
  },
  {
   "cell_type": "code",
   "execution_count": 4,
   "metadata": {},
   "outputs": [],
   "source": [
    "image_json = !aws ecr describe-repositories --repository-names \"sagemaker-tidymodels\""
   ]
  },
  {
   "cell_type": "code",
   "execution_count": 5,
   "metadata": {},
   "outputs": [],
   "source": [
    "image_uri = json.loads(\"\".join(image_json))['repositories'][0]['repositoryArn']"
   ]
  },
  {
   "cell_type": "code",
   "execution_count": null,
   "metadata": {},
   "outputs": [],
   "source": []
  },
  {
   "cell_type": "code",
   "execution_count": 6,
   "metadata": {},
   "outputs": [],
   "source": [
    "from sagemaker.estimator import Framework\n",
    "from sagemaker.model import FrameworkModel\n",
    "from sagemaker.predictor import RealTimePredictor"
   ]
  },
  {
   "cell_type": "code",
   "execution_count": 7,
   "metadata": {},
   "outputs": [],
   "source": [
    "class TidymodelsPredictor(RealTimePredictor):\n",
    "    def __init__(self, endpoint_name, sagemaker_session=None, **kwargs):\n",
    "        super(TidymodelsPredictor, self).__init__(\n",
    "            endpoint_name, \n",
    "            sagemaker_session=sagemaker_session, \n",
    "            **kwargs\n",
    "        )"
   ]
  },
  {
   "cell_type": "code",
   "execution_count": 8,
   "metadata": {},
   "outputs": [],
   "source": [
    "from sagemaker.fw_utils import model_code_key_prefix\n",
    "from sagemaker.model import MODEL_SERVER_WORKERS_PARAM_NAME\n",
    "\n",
    "class TidymodelsModel(FrameworkModel):\n",
    "    \n",
    "    # `FrameworkModel` accepts a `dependencies` argument to make more code availabe\n",
    "    # in `/opt/ml/code`: https://github.com/aws/sagemaker-python-sdk/blob/8b2d5c8d73236b59bca6fdcaf96f227a01488288/src/sagemaker/model.py#L704-L712\n",
    "    \n",
    "    __framework_name__ = \"tidymodels\"\n",
    "    \n",
    "    def __init__(\n",
    "        self, \n",
    "        model_data, \n",
    "        image, role, \n",
    "        entry_point, \n",
    "        predictor_cls=TidymodelsPredictor, \n",
    "        model_server_workers=None,\n",
    "        **kwargs\n",
    "    ):\n",
    "        super(TidymodelsModel, self).__init__(\n",
    "            model_data,\n",
    "            image,\n",
    "            role,\n",
    "            entry_point,\n",
    "            predictor_cls=predictor_cls,\n",
    "            **kwargs\n",
    "        )\n",
    "        \n",
    "        self.model_server_workers = model_server_workers\n",
    "        \n",
    "    def prepare_container_def(self, instance_type=None, accelerator_type=None):\n",
    "        \"\"\"Return a container definition with framework configuration set in\n",
    "        model environment variables.\n",
    "        Args:\n",
    "            instance_type (str): The EC2 instance type to deploy this Model to.\n",
    "                This parameter is unused because Scikit-learn supports only CPU.\n",
    "            accelerator_type (str): The Elastic Inference accelerator type to\n",
    "                deploy to the instance for loading and making inferences to the\n",
    "                model. This parameter is unused because accelerator types\n",
    "                are not supported by SKLearnModel.\n",
    "        Returns:\n",
    "            dict[str, str]: A container definition object usable with the\n",
    "            CreateModel API.\n",
    "        \"\"\"\n",
    "        if accelerator_type:\n",
    "            raise ValueError(\"Accelerator types are not supported for Tidymodels.\")\n",
    "\n",
    "        deploy_image = self.image\n",
    "        if not deploy_image:\n",
    "            deploy_image = self.serving_image_uri(\n",
    "                self.sagemaker_session.boto_region_name, instance_type\n",
    "            )\n",
    "\n",
    "        deploy_key_prefix = model_code_key_prefix(self.key_prefix, self.name, deploy_image)\n",
    "        self._upload_code(key_prefix=deploy_key_prefix, repack=self.enable_network_isolation())\n",
    "        deploy_env = dict(self.env)\n",
    "        deploy_env.update(self._framework_env_vars())\n",
    "\n",
    "        if self.model_server_workers:\n",
    "            deploy_env[MODEL_SERVER_WORKERS_PARAM_NAME.upper()] = str(self.model_server_workers)\n",
    "        model_data_uri = (\n",
    "            self.repacked_model_data if self.enable_network_isolation() else self.model_data\n",
    "        )\n",
    "        return sagemaker.container_def(deploy_image, model_data_uri, deploy_env)\n",
    "        \n",
    "        \n",
    "class Tidymodels(Framework):\n",
    "    def __init__(self, **kwargs):\n",
    "        super(Tidymodels, self).__init__(**kwargs)\n",
    "        \n",
    "    def create_model(self, **kwargs):\n",
    "        # todo: entry_point=None, replace to use a specific serve script\n",
    "        # uses self or supplied entry_point: https://github.com/aws/sagemaker-python-sdk/blob/1872483681a6647bdad126b8214fb6cc35e164fd/src/sagemaker/sklearn/estimator.py#L204\n",
    "        return TidymodelsModel(\n",
    "            entry_point=self.entry_point,\n",
    "            image=self.image_name,\n",
    "            role=self.role,\n",
    "            model_data=self.model_data,\n",
    "            **kwargs\n",
    "        )"
   ]
  },
  {
   "cell_type": "code",
   "execution_count": 11,
   "metadata": {},
   "outputs": [
    {
     "name": "stderr",
     "output_type": "stream",
     "text": [
      "WARNING:root:Parameter image_name will be renamed to image_uri in SageMaker Python SDK v2.\n"
     ]
    }
   ],
   "source": [
    "tidymodels = Tidymodels(\n",
    "    entry_point=\"R/train.R\",\n",
    "    train_instance_count=1,\n",
    "    train_instance_type=\"local\",\n",
    "    role=role,\n",
    "    image_name='sagemaker-tidymodels'\n",
    ")"
   ]
  },
  {
   "cell_type": "code",
   "execution_count": 12,
   "metadata": {},
   "outputs": [
    {
     "name": "stderr",
     "output_type": "stream",
     "text": [
      "WARNING:sagemaker:'s3_input' class will be renamed to 'TrainingInput' in SageMaker Python SDK v2.\n"
     ]
    },
    {
     "name": "stdout",
     "output_type": "stream",
     "text": [
      "Creating tmptry7iu84_algo-1-nvi4p_1 ... \n",
      "\u001b[1BAttaching to tmptry7iu84_algo-1-nvi4p_12mdone\u001b[0m\n",
      "\u001b[36malgo-1-nvi4p_1  |\u001b[0m s3://sagemaker-us-east-2-495577990003/sagemaker-tidymodels-2020-07-26-00-05-32-843/source/sourcedir.tar.gz\n",
      "\u001b[36malgo-1-nvi4p_1  |\u001b[0m train.R\n",
      "\u001b[36malgo-1-nvi4p_1  |\u001b[0m []\n",
      "\u001b[36malgo-1-nvi4p_1  |\u001b[0m Loading required package: dplyr\n",
      "\u001b[36malgo-1-nvi4p_1  |\u001b[0m \n",
      "\u001b[36malgo-1-nvi4p_1  |\u001b[0m Attaching package: ‘dplyr’\n",
      "\u001b[36malgo-1-nvi4p_1  |\u001b[0m \n",
      "\u001b[36malgo-1-nvi4p_1  |\u001b[0m The following objects are masked from ‘package:stats’:\n",
      "\u001b[36malgo-1-nvi4p_1  |\u001b[0m \n",
      "\u001b[36malgo-1-nvi4p_1  |\u001b[0m     filter, lag\n",
      "\u001b[36malgo-1-nvi4p_1  |\u001b[0m \n",
      "\u001b[36malgo-1-nvi4p_1  |\u001b[0m The following objects are masked from ‘package:base’:\n",
      "\u001b[36malgo-1-nvi4p_1  |\u001b[0m \n",
      "\u001b[36malgo-1-nvi4p_1  |\u001b[0m     intersect, setdiff, setequal, union\n",
      "\u001b[36malgo-1-nvi4p_1  |\u001b[0m \n",
      "\u001b[36malgo-1-nvi4p_1  |\u001b[0m \n",
      "\u001b[36malgo-1-nvi4p_1  |\u001b[0m Attaching package: ‘recipes’\n",
      "\u001b[36malgo-1-nvi4p_1  |\u001b[0m \n",
      "\u001b[36malgo-1-nvi4p_1  |\u001b[0m The following object is masked from ‘package:stats’:\n",
      "\u001b[36malgo-1-nvi4p_1  |\u001b[0m \n",
      "\u001b[36malgo-1-nvi4p_1  |\u001b[0m     step\n",
      "\u001b[36malgo-1-nvi4p_1  |\u001b[0m \n",
      "\u001b[36malgo-1-nvi4p_1  |\u001b[0m \n",
      "\u001b[36malgo-1-nvi4p_1  |\u001b[0m Attaching package: ‘janitor’\n",
      "\u001b[36malgo-1-nvi4p_1  |\u001b[0m \n",
      "\u001b[36malgo-1-nvi4p_1  |\u001b[0m The following objects are masked from ‘package:stats’:\n",
      "\u001b[36malgo-1-nvi4p_1  |\u001b[0m \n",
      "\u001b[36malgo-1-nvi4p_1  |\u001b[0m     chisq.test, fisher.test\n",
      "\u001b[36malgo-1-nvi4p_1  |\u001b[0m \n",
      "\u001b[36malgo-1-nvi4p_1  |\u001b[0m [1] \"/opt/ml/input/data/train/census-income.csv\"\n",
      "\u001b[36malgo-1-nvi4p_1  |\u001b[0m Parsed with column specification:\n",
      "\u001b[36malgo-1-nvi4p_1  |\u001b[0m cols(\n",
      "\u001b[36malgo-1-nvi4p_1  |\u001b[0m   .default = col_character(),\n",
      "\u001b[36malgo-1-nvi4p_1  |\u001b[0m   age = \u001b[32mcol_double()\u001b[39m,\n",
      "\u001b[36malgo-1-nvi4p_1  |\u001b[0m   `detailed industry recode` = \u001b[32mcol_double()\u001b[39m,\n",
      "\u001b[36malgo-1-nvi4p_1  |\u001b[0m   `detailed occupation recode` = \u001b[32mcol_double()\u001b[39m,\n",
      "\u001b[36malgo-1-nvi4p_1  |\u001b[0m   `wage per hour` = \u001b[32mcol_double()\u001b[39m,\n",
      "\u001b[36malgo-1-nvi4p_1  |\u001b[0m   `capital gains` = \u001b[32mcol_double()\u001b[39m,\n",
      "\u001b[36malgo-1-nvi4p_1  |\u001b[0m   `capital losses` = \u001b[32mcol_double()\u001b[39m,\n",
      "\u001b[36malgo-1-nvi4p_1  |\u001b[0m   `dividends from stocks` = \u001b[32mcol_double()\u001b[39m,\n",
      "\u001b[36malgo-1-nvi4p_1  |\u001b[0m   `instance weight` = \u001b[32mcol_double()\u001b[39m,\n",
      "\u001b[36malgo-1-nvi4p_1  |\u001b[0m   `num persons worked for employer` = \u001b[32mcol_double()\u001b[39m,\n",
      "\u001b[36malgo-1-nvi4p_1  |\u001b[0m   `own business or self employed` = \u001b[32mcol_double()\u001b[39m,\n",
      "\u001b[36malgo-1-nvi4p_1  |\u001b[0m   `veterans benefits` = \u001b[32mcol_double()\u001b[39m,\n",
      "\u001b[36malgo-1-nvi4p_1  |\u001b[0m   `weeks worked in year` = \u001b[32mcol_double()\u001b[39m,\n",
      "\u001b[36malgo-1-nvi4p_1  |\u001b[0m   year = \u001b[32mcol_double()\u001b[39m\n",
      "\u001b[36malgo-1-nvi4p_1  |\u001b[0m )\n",
      "\u001b[36malgo-1-nvi4p_1  |\u001b[0m See spec(...) for full column specifications.\n",
      "\u001b[36malgo-1-nvi4p_1  |\u001b[0m [1] \"split\"\n",
      "\u001b[36malgo-1-nvi4p_1  |\u001b[0m [1] \"recipe\"\n",
      "\u001b[36malgo-1-nvi4p_1  |\u001b[0m [1] \"model\"\n",
      "\u001b[36malgo-1-nvi4p_1  |\u001b[0m [1] \"fit\"\n",
      "\u001b[36malgo-1-nvi4p_1  |\u001b[0m [1] \"/opt/ml/model/model.RDS\"\n",
      "\u001b[36malgo-1-nvi4p_1  |\u001b[0m Warning messages:\n",
      "\u001b[36malgo-1-nvi4p_1  |\u001b[0m 1: Data not binned; too few unique values per bin. Adjust 'min_unique' as needed \n",
      "\u001b[36malgo-1-nvi4p_1  |\u001b[0m 2: Data not binned; too few unique values per bin. Adjust 'min_unique' as needed \n",
      "\u001b[36malgo-1-nvi4p_1  |\u001b[0m 3: glm.fit: fitted probabilities numerically 0 or 1 occurred \n",
      "\u001b[36mtmptry7iu84_algo-1-nvi4p_1 exited with code 0\n",
      "\u001b[0mAborting on container exit...\n",
      "===== Job Complete =====\n"
     ]
    }
   ],
   "source": [
    "logs = tidymodels.fit({'train': 's3://sagemaker-sample-data-us-east-2/processing/census/census-income.csv'})"
   ]
  },
  {
   "cell_type": "code",
   "execution_count": 13,
   "metadata": {
    "scrolled": true
   },
   "outputs": [
    {
     "data": {
      "text/plain": [
       "'s3://sagemaker-us-east-2-495577990003/sagemaker-tidymodels-2020-07-26-00-05-32-843/model.tar.gz'"
      ]
     },
     "execution_count": 13,
     "metadata": {},
     "output_type": "execute_result"
    }
   ],
   "source": [
    "tidymodels.model_data"
   ]
  },
  {
   "cell_type": "code",
   "execution_count": 22,
   "metadata": {},
   "outputs": [
    {
     "data": {
      "text/plain": [
       "UserCode(s3_prefix='s3://sagemaker-us-east-2-495577990003/sagemaker-tidymodels-2020-07-25-22-17-53-014/source/sourcedir.tar.gz', script_name='train.R')"
      ]
     },
     "execution_count": 22,
     "metadata": {},
     "output_type": "execute_result"
    }
   ],
   "source": [
    "tidymodels.uplobaded_code"
   ]
  },
  {
   "cell_type": "code",
   "execution_count": 12,
   "metadata": {},
   "outputs": [],
   "source": [
    "# recipes is out of date on docker??\n",
    "# couldn't figure out why, but I fixed it by changing some of the name vectors\n",
    "\n",
    "# instance_type=\"ml.t2.medium\""
   ]
  },
  {
   "cell_type": "code",
   "execution_count": 15,
   "metadata": {},
   "outputs": [
    {
     "name": "stderr",
     "output_type": "stream",
     "text": [
      "WARNING:sagemaker:Parameter image will be renamed to image_uri in SageMaker Python SDK v2.\n",
      "WARNING:urllib3.connectionpool:Retrying (Retry(total=2, connect=None, read=None, redirect=None, status=None)) after connection broken by 'NewConnectionError('<urllib3.connection.HTTPConnection object at 0x1165aa4d0>: Failed to establish a new connection: [Errno 61] Connection refused')': /ping\n",
      "WARNING:urllib3.connectionpool:Retrying (Retry(total=1, connect=None, read=None, redirect=None, status=None)) after connection broken by 'NewConnectionError('<urllib3.connection.HTTPConnection object at 0x1165b7890>: Failed to establish a new connection: [Errno 61] Connection refused')': /ping\n",
      "WARNING:urllib3.connectionpool:Retrying (Retry(total=0, connect=None, read=None, redirect=None, status=None)) after connection broken by 'NewConnectionError('<urllib3.connection.HTTPConnection object at 0x1165560d0>: Failed to establish a new connection: [Errno 61] Connection refused')': /ping\n"
     ]
    },
    {
     "name": "stdout",
     "output_type": "stream",
     "text": [
      "Attaching to tmp1r9hknhw_algo-1-9p3j3_1\n",
      "\u001b[36malgo-1-9p3j3_1  |\u001b[0m [1] \"train.R\"\n",
      "\u001b[36malgo-1-9p3j3_1  |\u001b[0m [1] \"/\"\n",
      "\u001b[36malgo-1-9p3j3_1  |\u001b[0m [1] \"SAGEMAKER_SUBMIT_DIRECTORY\"\n",
      "\u001b[36malgo-1-9p3j3_1  |\u001b[0m [1] \"s3://sagemaker-us-east-2-495577990003/sagemaker-tidymodels-2020-07-26-00-05-32-843/sourcedir.tar.gz\"\n",
      "\u001b[36malgo-1-9p3j3_1  |\u001b[0m character(0)\n",
      "\u001b[36malgo-1-9p3j3_1  |\u001b[0m character(0)\n",
      "\u001b[36malgo-1-9p3j3_1  |\u001b[0m /bin/tar: /user_module/: Cannot open: No such file or directory\n",
      "\u001b[36malgo-1-9p3j3_1  |\u001b[0m /bin/tar: Error is not recoverable: exiting now\n",
      "\u001b[36malgo-1-9p3j3_1  |\u001b[0m Warning message:\n",
      "\u001b[36malgo-1-9p3j3_1  |\u001b[0m In untar(\"/user_module/\") :\n",
      "\u001b[36malgo-1-9p3j3_1  |\u001b[0m   ‘/bin/tar -xf '/user_module/'’ returned error code 2\n",
      "\u001b[36malgo-1-9p3j3_1  |\u001b[0m character(0)\n",
      "\u001b[36malgo-1-9p3j3_1  |\u001b[0m  [1] \"bin\"            \"boot\"           \"dev\"            \"entry\"         \n",
      "\u001b[36malgo-1-9p3j3_1  |\u001b[0m  [5] \"etc\"            \"home\"           \"lib\"            \"lib64\"         \n",
      "\u001b[36malgo-1-9p3j3_1  |\u001b[0m  [9] \"media\"          \"mnt\"            \"opt\"            \"plumber.R\"     \n",
      "\u001b[36malgo-1-9p3j3_1  |\u001b[0m [13] \"proc\"           \"rocker_scripts\" \"root\"           \"run\"           \n",
      "\u001b[36malgo-1-9p3j3_1  |\u001b[0m [17] \"sbin\"           \"serve.R\"        \"srv\"            \"sys\"           \n",
      "\u001b[36malgo-1-9p3j3_1  |\u001b[0m [21] \"tmp\"            \"usr\"            \"var\"           \n",
      "\u001b[36malgo-1-9p3j3_1  |\u001b[0m [1] \"code\"  \"model\"\n",
      "\u001b[36malgo-1-9p3j3_1  |\u001b[0m [1] \"train.R\"\n",
      "\u001b[36malgo-1-9p3j3_1  |\u001b[0m [1] \"model.RDS\"    \"model.tar.gz\"\n",
      "\u001b[36malgo-1-9p3j3_1  |\u001b[0m Loading required package: dplyr\n",
      "\u001b[36malgo-1-9p3j3_1  |\u001b[0m \n",
      "\u001b[36malgo-1-9p3j3_1  |\u001b[0m Attaching package: ‘dplyr’\n",
      "\u001b[36malgo-1-9p3j3_1  |\u001b[0m \n",
      "\u001b[36malgo-1-9p3j3_1  |\u001b[0m The following objects are masked from ‘package:stats’:\n",
      "\u001b[36malgo-1-9p3j3_1  |\u001b[0m \n",
      "\u001b[36malgo-1-9p3j3_1  |\u001b[0m     filter, lag\n",
      "\u001b[36malgo-1-9p3j3_1  |\u001b[0m \n",
      "\u001b[36malgo-1-9p3j3_1  |\u001b[0m The following objects are masked from ‘package:base’:\n",
      "\u001b[36malgo-1-9p3j3_1  |\u001b[0m \n",
      "\u001b[36malgo-1-9p3j3_1  |\u001b[0m     intersect, setdiff, setequal, union\n",
      "\u001b[36malgo-1-9p3j3_1  |\u001b[0m \n",
      "\u001b[36malgo-1-9p3j3_1  |\u001b[0m \n",
      "\u001b[36malgo-1-9p3j3_1  |\u001b[0m Attaching package: ‘recipes’\n",
      "\u001b[36malgo-1-9p3j3_1  |\u001b[0m \n",
      "\u001b[36malgo-1-9p3j3_1  |\u001b[0m The following object is masked from ‘package:stats’:\n",
      "\u001b[36malgo-1-9p3j3_1  |\u001b[0m \n",
      "\u001b[36malgo-1-9p3j3_1  |\u001b[0m     step\n",
      "\u001b[36malgo-1-9p3j3_1  |\u001b[0m \n"
     ]
    },
    {
     "name": "stderr",
     "output_type": "stream",
     "text": [
      "WARNING:urllib3.connectionpool:Retrying (Retry(total=2, connect=None, read=None, redirect=None, status=None)) after connection broken by 'ProtocolError('Connection aborted.', RemoteDisconnected('Remote end closed connection without response'))': /ping\n",
      "WARNING:urllib3.connectionpool:Retrying (Retry(total=1, connect=None, read=None, redirect=None, status=None)) after connection broken by 'ProtocolError('Connection aborted.', RemoteDisconnected('Remote end closed connection without response'))': /ping\n",
      "WARNING:urllib3.connectionpool:Retrying (Retry(total=0, connect=None, read=None, redirect=None, status=None)) after connection broken by 'ProtocolError('Connection aborted.', RemoteDisconnected('Remote end closed connection without response'))': /ping\n"
     ]
    },
    {
     "name": "stdout",
     "output_type": "stream",
     "text": [
      "\u001b[36malgo-1-9p3j3_1  |\u001b[0m \n",
      "\u001b[36malgo-1-9p3j3_1  |\u001b[0m Attaching package: ‘janitor’\n",
      "\u001b[36malgo-1-9p3j3_1  |\u001b[0m \n",
      "\u001b[36malgo-1-9p3j3_1  |\u001b[0m The following objects are masked from ‘package:stats’:\n",
      "\u001b[36malgo-1-9p3j3_1  |\u001b[0m \n",
      "\u001b[36malgo-1-9p3j3_1  |\u001b[0m     chisq.test, fisher.test\n",
      "\u001b[36malgo-1-9p3j3_1  |\u001b[0m \n",
      "\u001b[36malgo-1-9p3j3_1  |\u001b[0m [1] \"hello starting plumber...\"\n",
      "\u001b[36malgo-1-9p3j3_1  |\u001b[0m Starting server to listen on port 8080\n",
      "\u001b[36malgo-1-9p3j3_1  |\u001b[0m [1] \"hello\"\n",
      "\u001b[36malgo-1-9p3j3_1  |\u001b[0m [1] \"hello from other func!!!\"\n",
      "!"
     ]
    }
   ],
   "source": [
    "predictor = tidymodels.deploy(initial_instance_count=1, instance_type='local')"
   ]
  },
  {
   "cell_type": "code",
   "execution_count": null,
   "metadata": {},
   "outputs": [],
   "source": [
    "example_data = r'73,Not in universe,0,0,High school graduate,0,Not in universe,Widowed,Not in universe or children,Not in universe,White,All other,Female,Not in universe,Not in universe,Not in labor force,0,0,0,Nonfiler,Not in universe,Not in universe,Other Rel 18+ ever marr not in subfamily,Other relative of householder,1700.09,?,?,?,Not in universe under 1 year old,?,0,Not in universe,United-States,United-States,United-States,Native- Born in the United States,0,Not in universe,2,0,95,- 50000.\\n'"
   ]
  },
  {
   "cell_type": "code",
   "execution_count": null,
   "metadata": {},
   "outputs": [],
   "source": [
    "# string output without deserializer\n",
    "predictor.predict(example_data)"
   ]
  },
  {
   "cell_type": "code",
   "execution_count": 44,
   "metadata": {},
   "outputs": [],
   "source": [
    "import numpy as np"
   ]
  },
  {
   "cell_type": "code",
   "execution_count": 28,
   "metadata": {},
   "outputs": [
    {
     "data": {
      "text/plain": [
       "'0,1'"
      ]
     },
     "execution_count": 28,
     "metadata": {},
     "output_type": "execute_result"
    }
   ],
   "source": [
    "sagemaker.predictor.csv_serializer(np.array([0, 1]))"
   ]
  },
  {
   "cell_type": "code",
   "execution_count": 30,
   "metadata": {},
   "outputs": [
    {
     "ename": "AttributeError",
     "evalue": "'str' object has no attribute 'close'",
     "output_type": "error",
     "traceback": [
      "\u001b[0;31m---------------------------------------------------------------------------\u001b[0m",
      "\u001b[0;31mAttributeError\u001b[0m                            Traceback (most recent call last)",
      "\u001b[0;32m~/anaconda/envs/jupyter/lib/python3.7/site-packages/sagemaker/predictor.py\u001b[0m in \u001b[0;36m__call__\u001b[0;34m(self, stream, content_type)\u001b[0m\n\u001b[1;32m    431\u001b[0m         \u001b[0;32mtry\u001b[0m\u001b[0;34m:\u001b[0m\u001b[0;34m\u001b[0m\u001b[0;34m\u001b[0m\u001b[0m\n\u001b[0;32m--> 432\u001b[0;31m             \u001b[0;32mreturn\u001b[0m \u001b[0mlist\u001b[0m\u001b[0;34m(\u001b[0m\u001b[0mcsv\u001b[0m\u001b[0;34m.\u001b[0m\u001b[0mreader\u001b[0m\u001b[0;34m(\u001b[0m\u001b[0mstream\u001b[0m\u001b[0;34m.\u001b[0m\u001b[0mread\u001b[0m\u001b[0;34m(\u001b[0m\u001b[0;34m)\u001b[0m\u001b[0;34m.\u001b[0m\u001b[0mdecode\u001b[0m\u001b[0;34m(\u001b[0m\u001b[0mself\u001b[0m\u001b[0;34m.\u001b[0m\u001b[0mencoding\u001b[0m\u001b[0;34m)\u001b[0m\u001b[0;34m.\u001b[0m\u001b[0msplitlines\u001b[0m\u001b[0;34m(\u001b[0m\u001b[0;34m)\u001b[0m\u001b[0;34m)\u001b[0m\u001b[0;34m)\u001b[0m\u001b[0;34m\u001b[0m\u001b[0;34m\u001b[0m\u001b[0m\n\u001b[0m\u001b[1;32m    433\u001b[0m         \u001b[0;32mfinally\u001b[0m\u001b[0;34m:\u001b[0m\u001b[0;34m\u001b[0m\u001b[0;34m\u001b[0m\u001b[0m\n",
      "\u001b[0;31mAttributeError\u001b[0m: 'str' object has no attribute 'read'",
      "\nDuring handling of the above exception, another exception occurred:\n",
      "\u001b[0;31mAttributeError\u001b[0m                            Traceback (most recent call last)",
      "\u001b[0;32m<ipython-input-30-b323ff94953b>\u001b[0m in \u001b[0;36m<module>\u001b[0;34m\u001b[0m\n\u001b[0;32m----> 1\u001b[0;31m \u001b[0msagemaker\u001b[0m\u001b[0;34m.\u001b[0m\u001b[0mpredictor\u001b[0m\u001b[0;34m.\u001b[0m\u001b[0mcsv_deserializer\u001b[0m\u001b[0;34m(\u001b[0m\u001b[0msagemaker\u001b[0m\u001b[0;34m.\u001b[0m\u001b[0mpredictor\u001b[0m\u001b[0;34m.\u001b[0m\u001b[0mcsv_serializer\u001b[0m\u001b[0;34m(\u001b[0m\u001b[0mnp\u001b[0m\u001b[0;34m.\u001b[0m\u001b[0marray\u001b[0m\u001b[0;34m(\u001b[0m\u001b[0;34m[\u001b[0m\u001b[0;36m0\u001b[0m\u001b[0;34m,\u001b[0m \u001b[0;36m1\u001b[0m\u001b[0;34m]\u001b[0m\u001b[0;34m)\u001b[0m\u001b[0;34m)\u001b[0m\u001b[0;34m,\u001b[0m \u001b[0mcontent_type\u001b[0m\u001b[0;34m=\u001b[0m\u001b[0;34m'text/csv'\u001b[0m\u001b[0;34m)\u001b[0m\u001b[0;34m\u001b[0m\u001b[0;34m\u001b[0m\u001b[0m\n\u001b[0m",
      "\u001b[0;32m~/anaconda/envs/jupyter/lib/python3.7/site-packages/sagemaker/predictor.py\u001b[0m in \u001b[0;36m__call__\u001b[0;34m(self, stream, content_type)\u001b[0m\n\u001b[1;32m    432\u001b[0m             \u001b[0;32mreturn\u001b[0m \u001b[0mlist\u001b[0m\u001b[0;34m(\u001b[0m\u001b[0mcsv\u001b[0m\u001b[0;34m.\u001b[0m\u001b[0mreader\u001b[0m\u001b[0;34m(\u001b[0m\u001b[0mstream\u001b[0m\u001b[0;34m.\u001b[0m\u001b[0mread\u001b[0m\u001b[0;34m(\u001b[0m\u001b[0;34m)\u001b[0m\u001b[0;34m.\u001b[0m\u001b[0mdecode\u001b[0m\u001b[0;34m(\u001b[0m\u001b[0mself\u001b[0m\u001b[0;34m.\u001b[0m\u001b[0mencoding\u001b[0m\u001b[0;34m)\u001b[0m\u001b[0;34m.\u001b[0m\u001b[0msplitlines\u001b[0m\u001b[0;34m(\u001b[0m\u001b[0;34m)\u001b[0m\u001b[0;34m)\u001b[0m\u001b[0;34m)\u001b[0m\u001b[0;34m\u001b[0m\u001b[0;34m\u001b[0m\u001b[0m\n\u001b[1;32m    433\u001b[0m         \u001b[0;32mfinally\u001b[0m\u001b[0;34m:\u001b[0m\u001b[0;34m\u001b[0m\u001b[0;34m\u001b[0m\u001b[0m\n\u001b[0;32m--> 434\u001b[0;31m             \u001b[0mstream\u001b[0m\u001b[0;34m.\u001b[0m\u001b[0mclose\u001b[0m\u001b[0;34m(\u001b[0m\u001b[0;34m)\u001b[0m\u001b[0;34m\u001b[0m\u001b[0;34m\u001b[0m\u001b[0m\n\u001b[0m\u001b[1;32m    435\u001b[0m \u001b[0;34m\u001b[0m\u001b[0m\n\u001b[1;32m    436\u001b[0m \u001b[0;34m\u001b[0m\u001b[0m\n",
      "\u001b[0;31mAttributeError\u001b[0m: 'str' object has no attribute 'close'"
     ]
    }
   ],
   "source": [
    "sagemaker.predictor.csv_deserializer(sagemaker.predictor.csv_serializer(np.array([0, 1])), content_type='text/csv')"
   ]
  },
  {
   "cell_type": "code",
   "execution_count": null,
   "metadata": {},
   "outputs": [],
   "source": []
  },
  {
   "cell_type": "code",
   "execution_count": 63,
   "metadata": {},
   "outputs": [],
   "source": [
    "predictor.content_type = 'application/json'\n",
    "predictor.deserializer = sagemaker.predictor.json_deserializer"
   ]
  },
  {
   "cell_type": "code",
   "execution_count": 64,
   "metadata": {},
   "outputs": [
    {
     "name": "stdout",
     "output_type": "stream",
     "text": [
      "\u001b[36malgo-1-5pmix_1  |\u001b[0m Warning in predict.lm(object, newdata, se.fit, scale = 1, type = if (type ==  :\r\n",
      "\u001b[36malgo-1-5pmix_1  |\u001b[0m   prediction from a rank-deficient fit may be misleading\r\n"
     ]
    }
   ],
   "source": [
    "# list of values with json_deserializer\n",
    "pred2 = predictor.predict(example_data)"
   ]
  },
  {
   "cell_type": "code",
   "execution_count": 65,
   "metadata": {},
   "outputs": [
    {
     "name": "stdout",
     "output_type": "stream",
     "text": [
      "['- 50000.\\n']\n"
     ]
    },
    {
     "data": {
      "text/plain": [
       "'- 50000.\\n'"
      ]
     },
     "execution_count": 65,
     "metadata": {},
     "output_type": "execute_result"
    },
    {
     "name": "stdout",
     "output_type": "stream",
     "text": [
      "\u001b[36mtmp80wdc_om_algo-1-5pmix_1 exited with code 137\n",
      "\u001b[0mAborting on container exit...\n"
     ]
    },
    {
     "name": "stderr",
     "output_type": "stream",
     "text": [
      "Exception in thread Thread-10:\n",
      "Traceback (most recent call last):\n",
      "  File \"/Users/Tim/anaconda/envs/jupyter/lib/python3.7/site-packages/sagemaker/local/image.py\", line 618, in run\n",
      "    _stream_output(self.process)\n",
      "  File \"/Users/Tim/anaconda/envs/jupyter/lib/python3.7/site-packages/sagemaker/local/image.py\", line 677, in _stream_output\n",
      "    raise RuntimeError(\"Process exited with code: %s\" % exit_code)\n",
      "RuntimeError: Process exited with code: 137\n",
      "\n",
      "During handling of the above exception, another exception occurred:\n",
      "\n",
      "Traceback (most recent call last):\n",
      "  File \"/Users/Tim/anaconda/envs/jupyter/lib/python3.7/threading.py\", line 926, in _bootstrap_inner\n",
      "    self.run()\n",
      "  File \"/Users/Tim/anaconda/envs/jupyter/lib/python3.7/site-packages/sagemaker/local/image.py\", line 623, in run\n",
      "    raise RuntimeError(msg)\n",
      "RuntimeError: Failed to run: ['docker-compose', '-f', '/private/var/folders/tg/y_4wm8y935sbct1kwymzgnpr0000gn/T/tmp80wdc_om/docker-compose.yaml', 'up', '--build', '--abort-on-container-exit'], Process exited with code: 137\n",
      "\n"
     ]
    }
   ],
   "source": [
    "print(pred2)\n",
    "pred2[0]"
   ]
  },
  {
   "cell_type": "code",
   "execution_count": 48,
   "metadata": {},
   "outputs": [],
   "source": [
    "# {sagemaker} always return a string, and then has a separate R process\n",
    "# to format the string json or csv into an R object. \n",
    "# This is probably (??) more efficient than letting python deserialize into a\n",
    "# numpy array and then copy that into an R array. See here: https://rstudio.github.io/reticulate/articles/arrays.html"
   ]
  },
  {
   "cell_type": "code",
   "execution_count": null,
   "metadata": {},
   "outputs": [],
   "source": []
  }
 ],
 "metadata": {
  "kernelspec": {
   "display_name": "Python 3",
   "language": "python",
   "name": "python3"
  },
  "language_info": {
   "codemirror_mode": {
    "name": "ipython",
    "version": 3
   },
   "file_extension": ".py",
   "mimetype": "text/x-python",
   "name": "python",
   "nbconvert_exporter": "python",
   "pygments_lexer": "ipython3",
   "version": "3.7.7"
  }
 },
 "nbformat": 4,
 "nbformat_minor": 4
}
