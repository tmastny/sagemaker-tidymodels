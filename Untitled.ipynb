{
 "cells": [
  {
   "cell_type": "code",
   "execution_count": 1,
   "metadata": {},
   "outputs": [],
   "source": [
    "import boto3\n",
    "import sagemaker"
   ]
  },
  {
   "cell_type": "code",
   "execution_count": 2,
   "metadata": {},
   "outputs": [],
   "source": [
    "region = boto3.session.Session().region_name\n",
    "role = !aws configure get role_arn --profile sagemaker\n",
    "role = role[0]"
   ]
  },
  {
   "cell_type": "code",
   "execution_count": 18,
   "metadata": {},
   "outputs": [],
   "source": [
    "import subprocess"
   ]
  },
  {
   "cell_type": "code",
   "execution_count": 22,
   "metadata": {},
   "outputs": [
    {
     "data": {
      "text/plain": [
       "['aws', 'configure', 'get', 'role_arn', '--profile', 'sagemaker']"
      ]
     },
     "execution_count": 22,
     "metadata": {},
     "output_type": "execute_result"
    }
   ],
   "source": [
    "'aws configure get role_arn --profile sagemaker'.split(' ')"
   ]
  },
  {
   "cell_type": "code",
   "execution_count": 37,
   "metadata": {},
   "outputs": [],
   "source": [
    "p = subprocess.run('aws configure get role_arn --profile sagemaker'.split(' '), stdout=subprocess.PIPE) \\\n",
    "    .stdout \\\n",
    "    .decode('utf-8') \\\n",
    "    .strip()"
   ]
  },
  {
   "cell_type": "code",
   "execution_count": 38,
   "metadata": {},
   "outputs": [
    {
     "data": {
      "text/plain": [
       "'arn:aws:iam::495577990003:role/service-role/AmazonSageMaker-ExecutionRole-20191110T141611'"
      ]
     },
     "execution_count": 38,
     "metadata": {},
     "output_type": "execute_result"
    }
   ],
   "source": [
    "p"
   ]
  },
  {
   "cell_type": "code",
   "execution_count": 3,
   "metadata": {},
   "outputs": [],
   "source": [
    "import json"
   ]
  },
  {
   "cell_type": "code",
   "execution_count": 4,
   "metadata": {},
   "outputs": [],
   "source": [
    "image_json = !aws ecr describe-repositories --repository-names \"sagemaker-tidymodels\""
   ]
  },
  {
   "cell_type": "code",
   "execution_count": 5,
   "metadata": {},
   "outputs": [],
   "source": [
    "image_uri = json.loads(\"\".join(image_json))['repositories'][0]['repositoryArn']"
   ]
  },
  {
   "cell_type": "code",
   "execution_count": null,
   "metadata": {},
   "outputs": [],
   "source": []
  },
  {
   "cell_type": "code",
   "execution_count": 6,
   "metadata": {},
   "outputs": [],
   "source": [
    "from sagemaker.estimator import Framework\n",
    "from sagemaker.model import FrameworkModel\n",
    "from sagemaker.predictor import RealTimePredictor"
   ]
  },
  {
   "cell_type": "code",
   "execution_count": 7,
   "metadata": {},
   "outputs": [],
   "source": [
    "class TidymodelsPredictor(RealTimePredictor):\n",
    "    def __init__(self, endpoint_name, sagemaker_session=None, **kwargs):\n",
    "        super(TidymodelsPredictor, self).__init__(\n",
    "            endpoint_name, \n",
    "            sagemaker_session=sagemaker_session, \n",
    "            **kwargs\n",
    "        )"
   ]
  },
  {
   "cell_type": "code",
   "execution_count": 8,
   "metadata": {},
   "outputs": [],
   "source": [
    "from sagemaker.fw_utils import model_code_key_prefix\n",
    "from sagemaker.model import MODEL_SERVER_WORKERS_PARAM_NAME\n",
    "\n",
    "class TidymodelsModel(FrameworkModel):\n",
    "    \n",
    "    # `FrameworkModel` accepts a `dependencies` argument to make more code availabe\n",
    "    # in `/opt/ml/code`: https://github.com/aws/sagemaker-python-sdk/blob/8b2d5c8d73236b59bca6fdcaf96f227a01488288/src/sagemaker/model.py#L704-L712\n",
    "    \n",
    "    __framework_name__ = \"tidymodels\"\n",
    "    \n",
    "    def __init__(\n",
    "        self, \n",
    "        model_data, \n",
    "        image, role, \n",
    "        entry_point, \n",
    "        predictor_cls=TidymodelsPredictor, \n",
    "        **kwargs\n",
    "    ):\n",
    "        super(TidymodelsModel, self).__init__(\n",
    "            model_data,\n",
    "            image,\n",
    "            role,\n",
    "            entry_point,\n",
    "            predictor_cls=predictor_cls,\n",
    "            **kwargs\n",
    "        )\n",
    "\n",
    "        \n",
    "class Tidymodels(Framework):\n",
    "    def __init__(self, **kwargs):\n",
    "        super(Tidymodels, self).__init__(**kwargs)\n",
    "        \n",
    "    def create_model(self, **kwargs):\n",
    "        # todo: entry_point=None, replace to use a specific serve script\n",
    "        # uses self or supplied entry_point: https://github.com/aws/sagemaker-python-sdk/blob/1872483681a6647bdad126b8214fb6cc35e164fd/src/sagemaker/sklearn/estimator.py#L204\n",
    "        return TidymodelsModel(\n",
    "            entry_point=self.entry_point,\n",
    "            image=self.image_name,\n",
    "            role=self.role,\n",
    "            model_data=self.model_data,\n",
    "            **kwargs\n",
    "        )"
   ]
  },
  {
   "cell_type": "code",
   "execution_count": 9,
   "metadata": {},
   "outputs": [
    {
     "name": "stderr",
     "output_type": "stream",
     "text": [
      "WARNING:root:Parameter image_name will be renamed to image_uri in SageMaker Python SDK v2.\n"
     ]
    }
   ],
   "source": [
    "tidymodels = Tidymodels(\n",
    "    entry_point=\"R/train.R\",\n",
    "    train_instance_count=1,\n",
    "    train_instance_type=\"local\",\n",
    "    role=role,\n",
    "    image_name='sagemaker-tidymodels'\n",
    ")"
   ]
  },
  {
   "cell_type": "code",
   "execution_count": 10,
   "metadata": {},
   "outputs": [
    {
     "name": "stderr",
     "output_type": "stream",
     "text": [
      "WARNING:sagemaker:'s3_input' class will be renamed to 'TrainingInput' in SageMaker Python SDK v2.\n"
     ]
    },
    {
     "name": "stdout",
     "output_type": "stream",
     "text": [
      "Creating tmpla9mqln0_algo-1-2h15l_1 ... \n",
      "\u001b[1BAttaching to tmpla9mqln0_algo-1-2h15l_12mdone\u001b[0m\n",
      "\u001b[36malgo-1-2h15l_1  |\u001b[0m s3://sagemaker-us-east-2-495577990003/sagemaker-tidymodels-2020-07-26-00-57-04-788/source/sourcedir.tar.gz\n",
      "\u001b[36malgo-1-2h15l_1  |\u001b[0m train.R\n",
      "\u001b[36malgo-1-2h15l_1  |\u001b[0m []\n",
      "\u001b[36malgo-1-2h15l_1  |\u001b[0m Loading required package: dplyr\n",
      "\u001b[36malgo-1-2h15l_1  |\u001b[0m \n",
      "\u001b[36malgo-1-2h15l_1  |\u001b[0m Attaching package: ‘dplyr’\n",
      "\u001b[36malgo-1-2h15l_1  |\u001b[0m \n",
      "\u001b[36malgo-1-2h15l_1  |\u001b[0m The following objects are masked from ‘package:stats’:\n",
      "\u001b[36malgo-1-2h15l_1  |\u001b[0m \n",
      "\u001b[36malgo-1-2h15l_1  |\u001b[0m     filter, lag\n",
      "\u001b[36malgo-1-2h15l_1  |\u001b[0m \n",
      "\u001b[36malgo-1-2h15l_1  |\u001b[0m The following objects are masked from ‘package:base’:\n",
      "\u001b[36malgo-1-2h15l_1  |\u001b[0m \n",
      "\u001b[36malgo-1-2h15l_1  |\u001b[0m     intersect, setdiff, setequal, union\n",
      "\u001b[36malgo-1-2h15l_1  |\u001b[0m \n",
      "\u001b[36malgo-1-2h15l_1  |\u001b[0m \n",
      "\u001b[36malgo-1-2h15l_1  |\u001b[0m Attaching package: ‘recipes’\n",
      "\u001b[36malgo-1-2h15l_1  |\u001b[0m \n",
      "\u001b[36malgo-1-2h15l_1  |\u001b[0m The following object is masked from ‘package:stats’:\n",
      "\u001b[36malgo-1-2h15l_1  |\u001b[0m \n",
      "\u001b[36malgo-1-2h15l_1  |\u001b[0m     step\n",
      "\u001b[36malgo-1-2h15l_1  |\u001b[0m \n",
      "\u001b[36malgo-1-2h15l_1  |\u001b[0m \n",
      "\u001b[36malgo-1-2h15l_1  |\u001b[0m Attaching package: ‘janitor’\n",
      "\u001b[36malgo-1-2h15l_1  |\u001b[0m \n",
      "\u001b[36malgo-1-2h15l_1  |\u001b[0m The following objects are masked from ‘package:stats’:\n",
      "\u001b[36malgo-1-2h15l_1  |\u001b[0m \n",
      "\u001b[36malgo-1-2h15l_1  |\u001b[0m     chisq.test, fisher.test\n",
      "\u001b[36malgo-1-2h15l_1  |\u001b[0m \n",
      "\u001b[36malgo-1-2h15l_1  |\u001b[0m [1] \"/opt/ml/input/data/train/census-income.csv\"\n",
      "\u001b[36malgo-1-2h15l_1  |\u001b[0m Parsed with column specification:\n",
      "\u001b[36malgo-1-2h15l_1  |\u001b[0m cols(\n",
      "\u001b[36malgo-1-2h15l_1  |\u001b[0m   .default = col_character(),\n",
      "\u001b[36malgo-1-2h15l_1  |\u001b[0m   age = \u001b[32mcol_double()\u001b[39m,\n",
      "\u001b[36malgo-1-2h15l_1  |\u001b[0m   `detailed industry recode` = \u001b[32mcol_double()\u001b[39m,\n",
      "\u001b[36malgo-1-2h15l_1  |\u001b[0m   `detailed occupation recode` = \u001b[32mcol_double()\u001b[39m,\n",
      "\u001b[36malgo-1-2h15l_1  |\u001b[0m   `wage per hour` = \u001b[32mcol_double()\u001b[39m,\n",
      "\u001b[36malgo-1-2h15l_1  |\u001b[0m   `capital gains` = \u001b[32mcol_double()\u001b[39m,\n",
      "\u001b[36malgo-1-2h15l_1  |\u001b[0m   `capital losses` = \u001b[32mcol_double()\u001b[39m,\n",
      "\u001b[36malgo-1-2h15l_1  |\u001b[0m   `dividends from stocks` = \u001b[32mcol_double()\u001b[39m,\n",
      "\u001b[36malgo-1-2h15l_1  |\u001b[0m   `instance weight` = \u001b[32mcol_double()\u001b[39m,\n",
      "\u001b[36malgo-1-2h15l_1  |\u001b[0m   `num persons worked for employer` = \u001b[32mcol_double()\u001b[39m,\n",
      "\u001b[36malgo-1-2h15l_1  |\u001b[0m   `own business or self employed` = \u001b[32mcol_double()\u001b[39m,\n",
      "\u001b[36malgo-1-2h15l_1  |\u001b[0m   `veterans benefits` = \u001b[32mcol_double()\u001b[39m,\n",
      "\u001b[36malgo-1-2h15l_1  |\u001b[0m   `weeks worked in year` = \u001b[32mcol_double()\u001b[39m,\n",
      "\u001b[36malgo-1-2h15l_1  |\u001b[0m   year = \u001b[32mcol_double()\u001b[39m\n",
      "\u001b[36malgo-1-2h15l_1  |\u001b[0m )\n",
      "\u001b[36malgo-1-2h15l_1  |\u001b[0m See spec(...) for full column specifications.\n",
      "\u001b[36malgo-1-2h15l_1  |\u001b[0m [1] \"split\"\n",
      "\u001b[36malgo-1-2h15l_1  |\u001b[0m [1] \"recipe\"\n",
      "\u001b[36malgo-1-2h15l_1  |\u001b[0m [1] \"model\"\n",
      "\u001b[36malgo-1-2h15l_1  |\u001b[0m [1] \"fit\"\n",
      "\u001b[36malgo-1-2h15l_1  |\u001b[0m [1] \"/opt/ml/model/model.RDS\"\n",
      "\u001b[36malgo-1-2h15l_1  |\u001b[0m Warning messages:\n",
      "\u001b[36malgo-1-2h15l_1  |\u001b[0m 1: Data not binned; too few unique values per bin. Adjust 'min_unique' as needed \n",
      "\u001b[36malgo-1-2h15l_1  |\u001b[0m 2: Data not binned; too few unique values per bin. Adjust 'min_unique' as needed \n",
      "\u001b[36malgo-1-2h15l_1  |\u001b[0m 3: glm.fit: fitted probabilities numerically 0 or 1 occurred \n",
      "\u001b[36mtmpla9mqln0_algo-1-2h15l_1 exited with code 0\n",
      "\u001b[0mAborting on container exit...\n",
      "===== Job Complete =====\n"
     ]
    }
   ],
   "source": [
    "logs = tidymodels.fit({'train': 's3://sagemaker-sample-data-us-east-2/processing/census/census-income.csv'})"
   ]
  },
  {
   "cell_type": "code",
   "execution_count": 11,
   "metadata": {
    "scrolled": true
   },
   "outputs": [
    {
     "data": {
      "text/plain": [
       "'s3://sagemaker-us-east-2-495577990003/sagemaker-tidymodels-2020-07-26-00-57-04-788/model.tar.gz'"
      ]
     },
     "execution_count": 11,
     "metadata": {},
     "output_type": "execute_result"
    }
   ],
   "source": [
    "tidymodels.model_data"
   ]
  },
  {
   "cell_type": "code",
   "execution_count": 13,
   "metadata": {},
   "outputs": [
    {
     "data": {
      "text/plain": [
       "UserCode(s3_prefix='s3://sagemaker-us-east-2-495577990003/sagemaker-tidymodels-2020-07-26-00-57-04-788/source/sourcedir.tar.gz', script_name='train.R')"
      ]
     },
     "execution_count": 13,
     "metadata": {},
     "output_type": "execute_result"
    }
   ],
   "source": [
    "tidymodels.uploaded_code"
   ]
  },
  {
   "cell_type": "code",
   "execution_count": 14,
   "metadata": {},
   "outputs": [],
   "source": [
    "# recipes is out of date on docker??\n",
    "# couldn't figure out why, but I fixed it by changing some of the name vectors\n",
    "\n",
    "# instance_type=\"ml.t2.medium\""
   ]
  },
  {
   "cell_type": "code",
   "execution_count": 15,
   "metadata": {},
   "outputs": [
    {
     "name": "stderr",
     "output_type": "stream",
     "text": [
      "WARNING:sagemaker:Parameter image will be renamed to image_uri in SageMaker Python SDK v2.\n",
      "WARNING:urllib3.connectionpool:Retrying (Retry(total=2, connect=None, read=None, redirect=None, status=None)) after connection broken by 'NewConnectionError('<urllib3.connection.HTTPConnection object at 0x114c73090>: Failed to establish a new connection: [Errno 61] Connection refused')': /ping\n",
      "WARNING:urllib3.connectionpool:Retrying (Retry(total=1, connect=None, read=None, redirect=None, status=None)) after connection broken by 'NewConnectionError('<urllib3.connection.HTTPConnection object at 0x114cba2d0>: Failed to establish a new connection: [Errno 61] Connection refused')': /ping\n",
      "WARNING:urllib3.connectionpool:Retrying (Retry(total=0, connect=None, read=None, redirect=None, status=None)) after connection broken by 'NewConnectionError('<urllib3.connection.HTTPConnection object at 0x114cba8d0>: Failed to establish a new connection: [Errno 61] Connection refused')': /ping\n"
     ]
    },
    {
     "name": "stdout",
     "output_type": "stream",
     "text": [
      "Attaching to tmpf97ht9xe_algo-1-cjiwd_1\n",
      "\u001b[36malgo-1-cjiwd_1  |\u001b[0m Loading required package: dplyr\n",
      "\u001b[36malgo-1-cjiwd_1  |\u001b[0m \n",
      "\u001b[36malgo-1-cjiwd_1  |\u001b[0m Attaching package: ‘dplyr’\n",
      "\u001b[36malgo-1-cjiwd_1  |\u001b[0m \n",
      "\u001b[36malgo-1-cjiwd_1  |\u001b[0m The following objects are masked from ‘package:stats’:\n",
      "\u001b[36malgo-1-cjiwd_1  |\u001b[0m \n",
      "\u001b[36malgo-1-cjiwd_1  |\u001b[0m     filter, lag\n",
      "\u001b[36malgo-1-cjiwd_1  |\u001b[0m \n",
      "\u001b[36malgo-1-cjiwd_1  |\u001b[0m The following objects are masked from ‘package:base’:\n",
      "\u001b[36malgo-1-cjiwd_1  |\u001b[0m \n",
      "\u001b[36malgo-1-cjiwd_1  |\u001b[0m     intersect, setdiff, setequal, union\n",
      "\u001b[36malgo-1-cjiwd_1  |\u001b[0m \n",
      "\u001b[36malgo-1-cjiwd_1  |\u001b[0m \n",
      "\u001b[36malgo-1-cjiwd_1  |\u001b[0m Attaching package: ‘recipes’\n",
      "\u001b[36malgo-1-cjiwd_1  |\u001b[0m \n",
      "\u001b[36malgo-1-cjiwd_1  |\u001b[0m The following object is masked from ‘package:stats’:\n",
      "\u001b[36malgo-1-cjiwd_1  |\u001b[0m \n",
      "\u001b[36malgo-1-cjiwd_1  |\u001b[0m     step\n",
      "\u001b[36malgo-1-cjiwd_1  |\u001b[0m \n",
      "\u001b[36malgo-1-cjiwd_1  |\u001b[0m \n",
      "\u001b[36malgo-1-cjiwd_1  |\u001b[0m Attaching package: ‘janitor’\n",
      "\u001b[36malgo-1-cjiwd_1  |\u001b[0m \n",
      "\u001b[36malgo-1-cjiwd_1  |\u001b[0m The following objects are masked from ‘package:stats’:\n",
      "\u001b[36malgo-1-cjiwd_1  |\u001b[0m \n",
      "\u001b[36malgo-1-cjiwd_1  |\u001b[0m     chisq.test, fisher.test\n",
      "\u001b[36malgo-1-cjiwd_1  |\u001b[0m \n",
      "\u001b[36malgo-1-cjiwd_1  |\u001b[0m Starting server to listen on port 8080\n",
      "!"
     ]
    }
   ],
   "source": [
    "predictor = tidymodels.deploy(initial_instance_count=1, instance_type='local')"
   ]
  },
  {
   "cell_type": "code",
   "execution_count": 16,
   "metadata": {},
   "outputs": [],
   "source": [
    "example_data = r'73,Not in universe,0,0,High school graduate,0,Not in universe,Widowed,Not in universe or children,Not in universe,White,All other,Female,Not in universe,Not in universe,Not in labor force,0,0,0,Nonfiler,Not in universe,Not in universe,Other Rel 18+ ever marr not in subfamily,Other relative of householder,1700.09,?,?,?,Not in universe under 1 year old,?,0,Not in universe,United-States,United-States,United-States,Native- Born in the United States,0,Not in universe,2,0,95,- 50000.\\n'"
   ]
  },
  {
   "cell_type": "code",
   "execution_count": 17,
   "metadata": {},
   "outputs": [
    {
     "name": "stdout",
     "output_type": "stream",
     "text": [
      "\u001b[36malgo-1-cjiwd_1  |\u001b[0m Warning in predict.lm(object, newdata, se.fit, scale = 1, type = if (type ==  :\r\n",
      "\u001b[36malgo-1-cjiwd_1  |\u001b[0m   prediction from a rank-deficient fit may be misleading\r\n"
     ]
    },
    {
     "data": {
      "text/plain": [
       "b'[\"- 50000.\\\\n\"]'"
      ]
     },
     "execution_count": 17,
     "metadata": {},
     "output_type": "execute_result"
    }
   ],
   "source": [
    "# string output without deserializer\n",
    "predictor.predict(example_data)"
   ]
  },
  {
   "cell_type": "code",
   "execution_count": 28,
   "metadata": {},
   "outputs": [],
   "source": [
    "import numpy as np"
   ]
  },
  {
   "cell_type": "code",
   "execution_count": 29,
   "metadata": {},
   "outputs": [
    {
     "data": {
      "text/plain": [
       "'0,1'"
      ]
     },
     "execution_count": 29,
     "metadata": {},
     "output_type": "execute_result"
    }
   ],
   "source": [
    "sagemaker.predictor.csv_serializer(np.array([0, 1]))"
   ]
  },
  {
   "cell_type": "code",
   "execution_count": 30,
   "metadata": {
    "scrolled": true
   },
   "outputs": [
    {
     "ename": "AttributeError",
     "evalue": "'str' object has no attribute 'close'",
     "output_type": "error",
     "traceback": [
      "\u001b[0;31m---------------------------------------------------------------------------\u001b[0m",
      "\u001b[0;31mAttributeError\u001b[0m                            Traceback (most recent call last)",
      "\u001b[0;32m~/anaconda/envs/jupyter/lib/python3.7/site-packages/sagemaker/predictor.py\u001b[0m in \u001b[0;36m__call__\u001b[0;34m(self, stream, content_type)\u001b[0m\n\u001b[1;32m    431\u001b[0m         \u001b[0;32mtry\u001b[0m\u001b[0;34m:\u001b[0m\u001b[0;34m\u001b[0m\u001b[0;34m\u001b[0m\u001b[0m\n\u001b[0;32m--> 432\u001b[0;31m             \u001b[0;32mreturn\u001b[0m \u001b[0mlist\u001b[0m\u001b[0;34m(\u001b[0m\u001b[0mcsv\u001b[0m\u001b[0;34m.\u001b[0m\u001b[0mreader\u001b[0m\u001b[0;34m(\u001b[0m\u001b[0mstream\u001b[0m\u001b[0;34m.\u001b[0m\u001b[0mread\u001b[0m\u001b[0;34m(\u001b[0m\u001b[0;34m)\u001b[0m\u001b[0;34m.\u001b[0m\u001b[0mdecode\u001b[0m\u001b[0;34m(\u001b[0m\u001b[0mself\u001b[0m\u001b[0;34m.\u001b[0m\u001b[0mencoding\u001b[0m\u001b[0;34m)\u001b[0m\u001b[0;34m.\u001b[0m\u001b[0msplitlines\u001b[0m\u001b[0;34m(\u001b[0m\u001b[0;34m)\u001b[0m\u001b[0;34m)\u001b[0m\u001b[0;34m)\u001b[0m\u001b[0;34m\u001b[0m\u001b[0;34m\u001b[0m\u001b[0m\n\u001b[0m\u001b[1;32m    433\u001b[0m         \u001b[0;32mfinally\u001b[0m\u001b[0;34m:\u001b[0m\u001b[0;34m\u001b[0m\u001b[0;34m\u001b[0m\u001b[0m\n",
      "\u001b[0;31mAttributeError\u001b[0m: 'str' object has no attribute 'read'",
      "\nDuring handling of the above exception, another exception occurred:\n",
      "\u001b[0;31mAttributeError\u001b[0m                            Traceback (most recent call last)",
      "\u001b[0;32m<ipython-input-30-b323ff94953b>\u001b[0m in \u001b[0;36m<module>\u001b[0;34m\u001b[0m\n\u001b[0;32m----> 1\u001b[0;31m \u001b[0msagemaker\u001b[0m\u001b[0;34m.\u001b[0m\u001b[0mpredictor\u001b[0m\u001b[0;34m.\u001b[0m\u001b[0mcsv_deserializer\u001b[0m\u001b[0;34m(\u001b[0m\u001b[0msagemaker\u001b[0m\u001b[0;34m.\u001b[0m\u001b[0mpredictor\u001b[0m\u001b[0;34m.\u001b[0m\u001b[0mcsv_serializer\u001b[0m\u001b[0;34m(\u001b[0m\u001b[0mnp\u001b[0m\u001b[0;34m.\u001b[0m\u001b[0marray\u001b[0m\u001b[0;34m(\u001b[0m\u001b[0;34m[\u001b[0m\u001b[0;36m0\u001b[0m\u001b[0;34m,\u001b[0m \u001b[0;36m1\u001b[0m\u001b[0;34m]\u001b[0m\u001b[0;34m)\u001b[0m\u001b[0;34m)\u001b[0m\u001b[0;34m,\u001b[0m \u001b[0mcontent_type\u001b[0m\u001b[0;34m=\u001b[0m\u001b[0;34m'text/csv'\u001b[0m\u001b[0;34m)\u001b[0m\u001b[0;34m\u001b[0m\u001b[0;34m\u001b[0m\u001b[0m\n\u001b[0m",
      "\u001b[0;32m~/anaconda/envs/jupyter/lib/python3.7/site-packages/sagemaker/predictor.py\u001b[0m in \u001b[0;36m__call__\u001b[0;34m(self, stream, content_type)\u001b[0m\n\u001b[1;32m    432\u001b[0m             \u001b[0;32mreturn\u001b[0m \u001b[0mlist\u001b[0m\u001b[0;34m(\u001b[0m\u001b[0mcsv\u001b[0m\u001b[0;34m.\u001b[0m\u001b[0mreader\u001b[0m\u001b[0;34m(\u001b[0m\u001b[0mstream\u001b[0m\u001b[0;34m.\u001b[0m\u001b[0mread\u001b[0m\u001b[0;34m(\u001b[0m\u001b[0;34m)\u001b[0m\u001b[0;34m.\u001b[0m\u001b[0mdecode\u001b[0m\u001b[0;34m(\u001b[0m\u001b[0mself\u001b[0m\u001b[0;34m.\u001b[0m\u001b[0mencoding\u001b[0m\u001b[0;34m)\u001b[0m\u001b[0;34m.\u001b[0m\u001b[0msplitlines\u001b[0m\u001b[0;34m(\u001b[0m\u001b[0;34m)\u001b[0m\u001b[0;34m)\u001b[0m\u001b[0;34m)\u001b[0m\u001b[0;34m\u001b[0m\u001b[0;34m\u001b[0m\u001b[0m\n\u001b[1;32m    433\u001b[0m         \u001b[0;32mfinally\u001b[0m\u001b[0;34m:\u001b[0m\u001b[0;34m\u001b[0m\u001b[0;34m\u001b[0m\u001b[0m\n\u001b[0;32m--> 434\u001b[0;31m             \u001b[0mstream\u001b[0m\u001b[0;34m.\u001b[0m\u001b[0mclose\u001b[0m\u001b[0;34m(\u001b[0m\u001b[0;34m)\u001b[0m\u001b[0;34m\u001b[0m\u001b[0;34m\u001b[0m\u001b[0m\n\u001b[0m\u001b[1;32m    435\u001b[0m \u001b[0;34m\u001b[0m\u001b[0m\n\u001b[1;32m    436\u001b[0m \u001b[0;34m\u001b[0m\u001b[0m\n",
      "\u001b[0;31mAttributeError\u001b[0m: 'str' object has no attribute 'close'"
     ]
    }
   ],
   "source": [
    "sagemaker.predictor.csv_deserializer(sagemaker.predictor.csv_serializer(np.array([0, 1])), content_type='text/csv')"
   ]
  },
  {
   "cell_type": "code",
   "execution_count": null,
   "metadata": {},
   "outputs": [],
   "source": []
  },
  {
   "cell_type": "code",
   "execution_count": 31,
   "metadata": {},
   "outputs": [],
   "source": [
    "predictor.content_type = 'application/json'\n",
    "predictor.deserializer = sagemaker.predictor.json_deserializer"
   ]
  },
  {
   "cell_type": "code",
   "execution_count": 32,
   "metadata": {},
   "outputs": [
    {
     "name": "stdout",
     "output_type": "stream",
     "text": [
      "\u001b[36malgo-1-9j842_1  |\u001b[0m Warning in predict.lm(object, newdata, se.fit, scale = 1, type = if (type ==  :\r\n",
      "\u001b[36malgo-1-9j842_1  |\u001b[0m   prediction from a rank-deficient fit may be misleading\r\n"
     ]
    }
   ],
   "source": [
    "# list of values with json_deserializer\n",
    "pred2 = predictor.predict(example_data)"
   ]
  },
  {
   "cell_type": "code",
   "execution_count": 33,
   "metadata": {},
   "outputs": [
    {
     "name": "stdout",
     "output_type": "stream",
     "text": [
      "['- 50000.\\n']\n"
     ]
    },
    {
     "data": {
      "text/plain": [
       "'- 50000.\\n'"
      ]
     },
     "execution_count": 33,
     "metadata": {},
     "output_type": "execute_result"
    }
   ],
   "source": [
    "print(pred2)\n",
    "pred2[0]"
   ]
  },
  {
   "cell_type": "code",
   "execution_count": 48,
   "metadata": {},
   "outputs": [],
   "source": [
    "# {sagemaker} always return a string, and then has a separate R process\n",
    "# to format the string json or csv into an R object. \n",
    "# This is probably (??) more efficient than letting python deserialize into a\n",
    "# numpy array and then copy that into an R array. See here: https://rstudio.github.io/reticulate/articles/arrays.html"
   ]
  },
  {
   "cell_type": "code",
   "execution_count": null,
   "metadata": {},
   "outputs": [],
   "source": []
  }
 ],
 "metadata": {
  "kernelspec": {
   "display_name": "Python 3",
   "language": "python",
   "name": "python3"
  },
  "language_info": {
   "codemirror_mode": {
    "name": "ipython",
    "version": 3
   },
   "file_extension": ".py",
   "mimetype": "text/x-python",
   "name": "python",
   "nbconvert_exporter": "python",
   "pygments_lexer": "ipython3",
   "version": "3.7.7"
  }
 },
 "nbformat": 4,
 "nbformat_minor": 4
}