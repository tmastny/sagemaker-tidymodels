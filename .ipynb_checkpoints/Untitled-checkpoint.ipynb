{
 "cells": [
  {
   "cell_type": "code",
   "execution_count": 1,
   "metadata": {},
   "outputs": [],
   "source": [
    "import boto3\n",
    "import sagemaker"
   ]
  },
  {
   "cell_type": "code",
   "execution_count": 2,
   "metadata": {},
   "outputs": [],
   "source": [
    "region = boto3.session.Session().region_name\n",
    "role = !aws configure get role_arn --profile sagemaker\n",
    "role = role[0]"
   ]
  },
  {
   "cell_type": "code",
   "execution_count": null,
   "metadata": {},
   "outputs": [],
   "source": []
  },
  {
   "cell_type": "code",
   "execution_count": 13,
   "metadata": {},
   "outputs": [],
   "source": [
    "import json"
   ]
  },
  {
   "cell_type": "code",
   "execution_count": 7,
   "metadata": {},
   "outputs": [],
   "source": [
    "image_json = !aws ecr describe-repositories --repository-names \"sagemaker-tidymodels\""
   ]
  },
  {
   "cell_type": "code",
   "execution_count": 18,
   "metadata": {},
   "outputs": [],
   "source": [
    "image_uri = json.loads(\"\".join(image_json))['repositories'][0]['repositoryArn']"
   ]
  },
  {
   "cell_type": "code",
   "execution_count": null,
   "metadata": {},
   "outputs": [],
   "source": []
  },
  {
   "cell_type": "code",
   "execution_count": 25,
   "metadata": {},
   "outputs": [],
   "source": [
    "from sagemaker.estimator import Framework\n",
    "from sagemaker.model import FrameworkModel\n",
    "from sagemaker.predictor import RealTimePredictor"
   ]
  },
  {
   "cell_type": "code",
   "execution_count": 45,
   "metadata": {},
   "outputs": [],
   "source": [
    "class TidyModelsPredictor(RealTimePredictor):\n",
    "    def __init__(self, **kwargs):\n",
    "        super(TidyModelsPredictor, self).__init__(\n",
    "            **kwargs))\n",
    "        )"
   ]
  },
  {
   "cell_type": "code",
   "execution_count": 52,
   "metadata": {},
   "outputs": [],
   "source": [
    "class TidyModelsModel(FrameworkModel):\n",
    "    __framework_name__ = \"tidymodels\"\n",
    "    \n",
    "    def __init__(self, **kwargs):\n",
    "        super(TidyModelsModel, self).__init__(**kwargs)\n",
    "        \n",
    "        \n",
    "class TidyModels(Framework):\n",
    "    def __init__(self, **kwargs):\n",
    "        super(TidyModels, self).__init__(**kwargs)\n",
    "        \n",
    "    def create_model(self, **kwargs):\n",
    "        return TidyModelsModel(**kwargs)"
   ]
  },
  {
   "cell_type": "code",
   "execution_count": 86,
   "metadata": {},
   "outputs": [
    {
     "name": "stderr",
     "output_type": "stream",
     "text": [
      "WARNING:root:Parameter image_name will be renamed to image_uri in SageMaker Python SDK v2.\n"
     ]
    }
   ],
   "source": [
    "tidymodels = TidyModels(\n",
    "    entry_point=\"R/train.R\",\n",
    "    train_instance_count=1,\n",
    "    train_instance_type=\"local\",\n",
    "    role=role,\n",
    "    image_name='sagemaker-tidymodels'\n",
    ")"
   ]
  },
  {
   "cell_type": "code",
   "execution_count": 104,
   "metadata": {},
   "outputs": [
    {
     "name": "stderr",
     "output_type": "stream",
     "text": [
      "WARNING:sagemaker:'s3_input' class will be renamed to 'TrainingInput' in SageMaker Python SDK v2.\n"
     ]
    },
    {
     "name": "stdout",
     "output_type": "stream",
     "text": [
      "Creating tmpylghb1zt_algo-1-gd3o4_1 ... \n",
      "\u001b[1BAttaching to tmpylghb1zt_algo-1-gd3o4_12mdone\u001b[0m\n",
      "\u001b[36malgo-1-gd3o4_1  |\u001b[0m 2020-07-22 15:21:40,474 sagemaker-training-toolkit INFO     No GPUs detected (normal if no gpus installed)\n",
      "\u001b[36malgo-1-gd3o4_1  |\u001b[0m 2020-07-22 15:21:40,509 sagemaker-training-toolkit INFO     No GPUs detected (normal if no gpus installed)\n",
      "\u001b[36malgo-1-gd3o4_1  |\u001b[0m 2020-07-22 15:21:40,538 sagemaker-training-toolkit INFO     No GPUs detected (normal if no gpus installed)\n",
      "\u001b[36malgo-1-gd3o4_1  |\u001b[0m 2020-07-22 15:21:40,566 sagemaker-training-toolkit INFO     Invoking user script\n",
      "\u001b[36malgo-1-gd3o4_1  |\u001b[0m \n",
      "\u001b[36malgo-1-gd3o4_1  |\u001b[0m Training Env:\n",
      "\u001b[36malgo-1-gd3o4_1  |\u001b[0m \n",
      "\u001b[36malgo-1-gd3o4_1  |\u001b[0m {\n",
      "\u001b[36malgo-1-gd3o4_1  |\u001b[0m     \"additional_framework_parameters\": {},\n",
      "\u001b[36malgo-1-gd3o4_1  |\u001b[0m     \"channel_input_dirs\": {\n",
      "\u001b[36malgo-1-gd3o4_1  |\u001b[0m         \"train\": \"/opt/ml/input/data/train\"\n",
      "\u001b[36malgo-1-gd3o4_1  |\u001b[0m     },\n",
      "\u001b[36malgo-1-gd3o4_1  |\u001b[0m     \"current_host\": \"algo-1-gd3o4\",\n",
      "\u001b[36malgo-1-gd3o4_1  |\u001b[0m     \"framework_module\": null,\n",
      "\u001b[36malgo-1-gd3o4_1  |\u001b[0m     \"hosts\": [\n",
      "\u001b[36malgo-1-gd3o4_1  |\u001b[0m         \"algo-1-gd3o4\"\n",
      "\u001b[36malgo-1-gd3o4_1  |\u001b[0m     ],\n",
      "\u001b[36malgo-1-gd3o4_1  |\u001b[0m     \"hyperparameters\": {},\n",
      "\u001b[36malgo-1-gd3o4_1  |\u001b[0m     \"input_config_dir\": \"/opt/ml/input/config\",\n",
      "\u001b[36malgo-1-gd3o4_1  |\u001b[0m     \"input_data_config\": {\n",
      "\u001b[36malgo-1-gd3o4_1  |\u001b[0m         \"train\": {\n",
      "\u001b[36malgo-1-gd3o4_1  |\u001b[0m             \"TrainingInputMode\": \"File\"\n",
      "\u001b[36malgo-1-gd3o4_1  |\u001b[0m         }\n",
      "\u001b[36malgo-1-gd3o4_1  |\u001b[0m     },\n",
      "\u001b[36malgo-1-gd3o4_1  |\u001b[0m     \"input_dir\": \"/opt/ml/input\",\n",
      "\u001b[36malgo-1-gd3o4_1  |\u001b[0m     \"is_master\": true,\n",
      "\u001b[36malgo-1-gd3o4_1  |\u001b[0m     \"job_name\": \"sagemaker-tidymodels-2020-07-22-15-21-28-920\",\n",
      "\u001b[36malgo-1-gd3o4_1  |\u001b[0m     \"log_level\": 20,\n",
      "\u001b[36malgo-1-gd3o4_1  |\u001b[0m     \"master_hostname\": \"algo-1-gd3o4\",\n",
      "\u001b[36malgo-1-gd3o4_1  |\u001b[0m     \"model_dir\": \"/opt/ml/model\",\n",
      "\u001b[36malgo-1-gd3o4_1  |\u001b[0m     \"module_dir\": \"s3://sagemaker-us-east-2-495577990003/sagemaker-tidymodels-2020-07-22-15-21-28-920/source/sourcedir.tar.gz\",\n",
      "\u001b[36malgo-1-gd3o4_1  |\u001b[0m     \"module_name\": \"train.R\",\n",
      "\u001b[36malgo-1-gd3o4_1  |\u001b[0m     \"network_interface_name\": \"eth0\",\n",
      "\u001b[36malgo-1-gd3o4_1  |\u001b[0m     \"num_cpus\": 4,\n",
      "\u001b[36malgo-1-gd3o4_1  |\u001b[0m     \"num_gpus\": 0,\n",
      "\u001b[36malgo-1-gd3o4_1  |\u001b[0m     \"output_data_dir\": \"/opt/ml/output/data\",\n",
      "\u001b[36malgo-1-gd3o4_1  |\u001b[0m     \"output_dir\": \"/opt/ml/output\",\n",
      "\u001b[36malgo-1-gd3o4_1  |\u001b[0m     \"output_intermediate_dir\": \"/opt/ml/output/intermediate\",\n",
      "\u001b[36malgo-1-gd3o4_1  |\u001b[0m     \"resource_config\": {\n",
      "\u001b[36malgo-1-gd3o4_1  |\u001b[0m         \"current_host\": \"algo-1-gd3o4\",\n",
      "\u001b[36malgo-1-gd3o4_1  |\u001b[0m         \"hosts\": [\n",
      "\u001b[36malgo-1-gd3o4_1  |\u001b[0m             \"algo-1-gd3o4\"\n",
      "\u001b[36malgo-1-gd3o4_1  |\u001b[0m         ]\n",
      "\u001b[36malgo-1-gd3o4_1  |\u001b[0m     },\n",
      "\u001b[36malgo-1-gd3o4_1  |\u001b[0m     \"user_entry_point\": \"train.R\"\n",
      "\u001b[36malgo-1-gd3o4_1  |\u001b[0m }\n",
      "\u001b[36malgo-1-gd3o4_1  |\u001b[0m \n",
      "\u001b[36malgo-1-gd3o4_1  |\u001b[0m Environment variables:\n",
      "\u001b[36malgo-1-gd3o4_1  |\u001b[0m \n",
      "\u001b[36malgo-1-gd3o4_1  |\u001b[0m SM_HOSTS=[\"algo-1-gd3o4\"]\n",
      "\u001b[36malgo-1-gd3o4_1  |\u001b[0m SM_NETWORK_INTERFACE_NAME=eth0\n",
      "\u001b[36malgo-1-gd3o4_1  |\u001b[0m SM_HPS={}\n",
      "\u001b[36malgo-1-gd3o4_1  |\u001b[0m SM_USER_ENTRY_POINT=train.R\n",
      "\u001b[36malgo-1-gd3o4_1  |\u001b[0m SM_FRAMEWORK_PARAMS={}\n",
      "\u001b[36malgo-1-gd3o4_1  |\u001b[0m SM_RESOURCE_CONFIG={\"current_host\":\"algo-1-gd3o4\",\"hosts\":[\"algo-1-gd3o4\"]}\n",
      "\u001b[36malgo-1-gd3o4_1  |\u001b[0m SM_INPUT_DATA_CONFIG={\"train\":{\"TrainingInputMode\":\"File\"}}\n",
      "\u001b[36malgo-1-gd3o4_1  |\u001b[0m SM_OUTPUT_DATA_DIR=/opt/ml/output/data\n",
      "\u001b[36malgo-1-gd3o4_1  |\u001b[0m SM_CHANNELS=[\"train\"]\n",
      "\u001b[36malgo-1-gd3o4_1  |\u001b[0m SM_CURRENT_HOST=algo-1-gd3o4\n",
      "\u001b[36malgo-1-gd3o4_1  |\u001b[0m SM_MODULE_NAME=train.R\n",
      "\u001b[36malgo-1-gd3o4_1  |\u001b[0m SM_LOG_LEVEL=20\n",
      "\u001b[36malgo-1-gd3o4_1  |\u001b[0m SM_FRAMEWORK_MODULE=\n",
      "\u001b[36malgo-1-gd3o4_1  |\u001b[0m SM_INPUT_DIR=/opt/ml/input\n",
      "\u001b[36malgo-1-gd3o4_1  |\u001b[0m SM_INPUT_CONFIG_DIR=/opt/ml/input/config\n",
      "\u001b[36malgo-1-gd3o4_1  |\u001b[0m SM_OUTPUT_DIR=/opt/ml/output\n",
      "\u001b[36malgo-1-gd3o4_1  |\u001b[0m SM_NUM_CPUS=4\n",
      "\u001b[36malgo-1-gd3o4_1  |\u001b[0m SM_NUM_GPUS=0\n",
      "\u001b[36malgo-1-gd3o4_1  |\u001b[0m SM_MODEL_DIR=/opt/ml/model\n",
      "\u001b[36malgo-1-gd3o4_1  |\u001b[0m SM_MODULE_DIR=s3://sagemaker-us-east-2-495577990003/sagemaker-tidymodels-2020-07-22-15-21-28-920/source/sourcedir.tar.gz\n",
      "\u001b[36malgo-1-gd3o4_1  |\u001b[0m SM_TRAINING_ENV={\"additional_framework_parameters\":{},\"channel_input_dirs\":{\"train\":\"/opt/ml/input/data/train\"},\"current_host\":\"algo-1-gd3o4\",\"framework_module\":null,\"hosts\":[\"algo-1-gd3o4\"],\"hyperparameters\":{},\"input_config_dir\":\"/opt/ml/input/config\",\"input_data_config\":{\"train\":{\"TrainingInputMode\":\"File\"}},\"input_dir\":\"/opt/ml/input\",\"is_master\":true,\"job_name\":\"sagemaker-tidymodels-2020-07-22-15-21-28-920\",\"log_level\":20,\"master_hostname\":\"algo-1-gd3o4\",\"model_dir\":\"/opt/ml/model\",\"module_dir\":\"s3://sagemaker-us-east-2-495577990003/sagemaker-tidymodels-2020-07-22-15-21-28-920/source/sourcedir.tar.gz\",\"module_name\":\"train.R\",\"network_interface_name\":\"eth0\",\"num_cpus\":4,\"num_gpus\":0,\"output_data_dir\":\"/opt/ml/output/data\",\"output_dir\":\"/opt/ml/output\",\"output_intermediate_dir\":\"/opt/ml/output/intermediate\",\"resource_config\":{\"current_host\":\"algo-1-gd3o4\",\"hosts\":[\"algo-1-gd3o4\"]},\"user_entry_point\":\"train.R\"}\n",
      "\u001b[36malgo-1-gd3o4_1  |\u001b[0m SM_USER_ARGS=[]\n",
      "\u001b[36malgo-1-gd3o4_1  |\u001b[0m SM_OUTPUT_INTERMEDIATE_DIR=/opt/ml/output/intermediate\n",
      "\u001b[36malgo-1-gd3o4_1  |\u001b[0m SM_CHANNEL_TRAIN=/opt/ml/input/data/train\n",
      "\u001b[36malgo-1-gd3o4_1  |\u001b[0m PYTHONPATH=/opt/ml/code:/usr/local/bin:/usr/lib/python36.zip:/usr/lib/python3.6:/usr/lib/python3.6/lib-dynload:/usr/local/lib/python3.6/dist-packages:/usr/lib/python3/dist-packages\n",
      "\u001b[36malgo-1-gd3o4_1  |\u001b[0m \n",
      "\u001b[36malgo-1-gd3o4_1  |\u001b[0m Invoking script with the following command:\n",
      "\u001b[36malgo-1-gd3o4_1  |\u001b[0m \n",
      "\u001b[36malgo-1-gd3o4_1  |\u001b[0m /bin/sh -c ./train.R \n",
      "\u001b[36malgo-1-gd3o4_1  |\u001b[0m \n",
      "\u001b[36malgo-1-gd3o4_1  |\u001b[0m \n",
      "\u001b[36malgo-1-gd3o4_1  |\u001b[0m Loading required package: dplyr\n",
      "\u001b[36malgo-1-gd3o4_1  |\u001b[0m \n",
      "\u001b[36malgo-1-gd3o4_1  |\u001b[0m Attaching package: ‘dplyr’\n",
      "\u001b[36malgo-1-gd3o4_1  |\u001b[0m \n",
      "\u001b[36malgo-1-gd3o4_1  |\u001b[0m The following objects are masked from ‘package:stats’:\n",
      "\u001b[36malgo-1-gd3o4_1  |\u001b[0m \n",
      "\u001b[36malgo-1-gd3o4_1  |\u001b[0m     filter, lag\n",
      "\u001b[36malgo-1-gd3o4_1  |\u001b[0m \n",
      "\u001b[36malgo-1-gd3o4_1  |\u001b[0m The following objects are masked from ‘package:base’:\n",
      "\u001b[36malgo-1-gd3o4_1  |\u001b[0m \n",
      "\u001b[36malgo-1-gd3o4_1  |\u001b[0m     intersect, setdiff, setequal, union\n",
      "\u001b[36malgo-1-gd3o4_1  |\u001b[0m \n",
      "\u001b[36malgo-1-gd3o4_1  |\u001b[0m \n",
      "\u001b[36malgo-1-gd3o4_1  |\u001b[0m Attaching package: ‘recipes’\n",
      "\u001b[36malgo-1-gd3o4_1  |\u001b[0m \n",
      "\u001b[36malgo-1-gd3o4_1  |\u001b[0m The following object is masked from ‘package:stats’:\n",
      "\u001b[36malgo-1-gd3o4_1  |\u001b[0m \n",
      "\u001b[36malgo-1-gd3o4_1  |\u001b[0m     step\n",
      "\u001b[36malgo-1-gd3o4_1  |\u001b[0m \n",
      "\u001b[36malgo-1-gd3o4_1  |\u001b[0m \n",
      "\u001b[36malgo-1-gd3o4_1  |\u001b[0m Attaching package: ‘janitor’\n",
      "\u001b[36malgo-1-gd3o4_1  |\u001b[0m \n",
      "\u001b[36malgo-1-gd3o4_1  |\u001b[0m The following objects are masked from ‘package:stats’:\n",
      "\u001b[36malgo-1-gd3o4_1  |\u001b[0m \n",
      "\u001b[36malgo-1-gd3o4_1  |\u001b[0m     chisq.test, fisher.test\n",
      "\u001b[36malgo-1-gd3o4_1  |\u001b[0m \n",
      "\u001b[36malgo-1-gd3o4_1  |\u001b[0m R version 4.0.0 (2020-04-24)\n",
      "\u001b[36malgo-1-gd3o4_1  |\u001b[0m Platform: x86_64-pc-linux-gnu (64-bit)\n",
      "\u001b[36malgo-1-gd3o4_1  |\u001b[0m Running under: Ubuntu 18.04.4 LTS\n",
      "\u001b[36malgo-1-gd3o4_1  |\u001b[0m \n",
      "\u001b[36malgo-1-gd3o4_1  |\u001b[0m Matrix products: default\n",
      "\u001b[36malgo-1-gd3o4_1  |\u001b[0m BLAS/LAPACK: /usr/lib/x86_64-linux-gnu/libopenblasp-r0.2.20.so\n",
      "\u001b[36malgo-1-gd3o4_1  |\u001b[0m \n",
      "\u001b[36malgo-1-gd3o4_1  |\u001b[0m locale:\n",
      "\u001b[36malgo-1-gd3o4_1  |\u001b[0m  [1] LC_CTYPE=en_US.UTF-8       LC_NUMERIC=C              \n",
      "\u001b[36malgo-1-gd3o4_1  |\u001b[0m  [3] LC_TIME=en_US.UTF-8        LC_COLLATE=en_US.UTF-8    \n",
      "\u001b[36malgo-1-gd3o4_1  |\u001b[0m  [5] LC_MONETARY=en_US.UTF-8    LC_MESSAGES=C             \n",
      "\u001b[36malgo-1-gd3o4_1  |\u001b[0m  [7] LC_PAPER=en_US.UTF-8       LC_NAME=C                 \n",
      "\u001b[36malgo-1-gd3o4_1  |\u001b[0m  [9] LC_ADDRESS=C               LC_TELEPHONE=C            \n",
      "\u001b[36malgo-1-gd3o4_1  |\u001b[0m [11] LC_MEASUREMENT=en_US.UTF-8 LC_IDENTIFICATION=C       \n",
      "\u001b[36malgo-1-gd3o4_1  |\u001b[0m \n",
      "\u001b[36malgo-1-gd3o4_1  |\u001b[0m attached base packages:\n",
      "\u001b[36malgo-1-gd3o4_1  |\u001b[0m [1] stats     graphics  grDevices utils     datasets  methods   base     \n",
      "\u001b[36malgo-1-gd3o4_1  |\u001b[0m \n",
      "\u001b[36malgo-1-gd3o4_1  |\u001b[0m other attached packages:\n",
      "\u001b[36malgo-1-gd3o4_1  |\u001b[0m [1] janitor_2.0.1   rsample_0.0.7   workflows_0.1.1 parsnip_0.1.1  \n",
      "\u001b[36malgo-1-gd3o4_1  |\u001b[0m [5] recipes_0.1.12  dplyr_1.0.0     readr_1.3.1    \n",
      "\u001b[36malgo-1-gd3o4_1  |\u001b[0m \n",
      "\u001b[36malgo-1-gd3o4_1  |\u001b[0m loaded via a namespace (and not attached):\n",
      "\u001b[36malgo-1-gd3o4_1  |\u001b[0m  [1] Rcpp_1.0.4.6       pillar_1.4.4       compiler_4.0.0     gower_0.2.1       \n",
      "\u001b[36malgo-1-gd3o4_1  |\u001b[0m  [5] tools_4.0.0        class_7.3-16       digest_0.6.25      rpart_4.1-15      \n",
      "\u001b[36malgo-1-gd3o4_1  |\u001b[0m  [9] ipred_0.9-9        lubridate_1.7.8    lifecycle_0.2.0    tibble_3.0.1      \n",
      "\u001b[36malgo-1-gd3o4_1  |\u001b[0m [13] lattice_0.20-41    pkgconfig_2.0.3    rlang_0.4.6        Matrix_1.2-18     \n",
      "\u001b[36malgo-1-gd3o4_1  |\u001b[0m [17] parallel_4.0.0     prodlim_2019.11.13 stringr_1.4.0      furrr_0.1.0       \n",
      "\u001b[36malgo-1-gd3o4_1  |\u001b[0m [21] withr_2.2.0        globals_0.12.5     generics_0.0.2     vctrs_0.3.1       \n",
      "\u001b[36malgo-1-gd3o4_1  |\u001b[0m [25] hms_0.5.3          grid_4.0.0         nnet_7.3-13        tidyselect_1.1.0  \n",
      "\u001b[36malgo-1-gd3o4_1  |\u001b[0m [29] snakecase_0.11.0   glue_1.4.1         listenv_0.8.0      R6_2.4.1          \n",
      "\u001b[36malgo-1-gd3o4_1  |\u001b[0m [33] survival_3.1-12    lava_1.6.7         purrr_0.3.4        tidyr_1.1.0       \n",
      "\u001b[36malgo-1-gd3o4_1  |\u001b[0m [37] magrittr_1.5       codetools_0.2-16   ellipsis_0.3.1     MASS_7.3-51.5     \n",
      "\u001b[36malgo-1-gd3o4_1  |\u001b[0m [41] splines_4.0.0      future_1.17.0      timeDate_3043.102  stringi_1.4.6     \n",
      "\u001b[36malgo-1-gd3o4_1  |\u001b[0m [45] crayon_1.3.4      \n",
      "\u001b[36malgo-1-gd3o4_1  |\u001b[0m [1] \"/opt/ml/input/data/train/census-income.csv\"\n",
      "\u001b[36malgo-1-gd3o4_1  |\u001b[0m Parsed with column specification:\n",
      "\u001b[36malgo-1-gd3o4_1  |\u001b[0m cols(\n",
      "\u001b[36malgo-1-gd3o4_1  |\u001b[0m   .default = col_character(),\n",
      "\u001b[36malgo-1-gd3o4_1  |\u001b[0m   age = \u001b[32mcol_double()\u001b[39m,\n",
      "\u001b[36malgo-1-gd3o4_1  |\u001b[0m   `detailed industry recode` = \u001b[32mcol_double()\u001b[39m,\n",
      "\u001b[36malgo-1-gd3o4_1  |\u001b[0m   `detailed occupation recode` = \u001b[32mcol_double()\u001b[39m,\n",
      "\u001b[36malgo-1-gd3o4_1  |\u001b[0m   `wage per hour` = \u001b[32mcol_double()\u001b[39m,\n",
      "\u001b[36malgo-1-gd3o4_1  |\u001b[0m   `capital gains` = \u001b[32mcol_double()\u001b[39m,\n",
      "\u001b[36malgo-1-gd3o4_1  |\u001b[0m   `capital losses` = \u001b[32mcol_double()\u001b[39m,\n",
      "\u001b[36malgo-1-gd3o4_1  |\u001b[0m   `dividends from stocks` = \u001b[32mcol_double()\u001b[39m,\n",
      "\u001b[36malgo-1-gd3o4_1  |\u001b[0m   `instance weight` = \u001b[32mcol_double()\u001b[39m,\n",
      "\u001b[36malgo-1-gd3o4_1  |\u001b[0m   `num persons worked for employer` = \u001b[32mcol_double()\u001b[39m,\n",
      "\u001b[36malgo-1-gd3o4_1  |\u001b[0m   `own business or self employed` = \u001b[32mcol_double()\u001b[39m,\n",
      "\u001b[36malgo-1-gd3o4_1  |\u001b[0m   `veterans benefits` = \u001b[32mcol_double()\u001b[39m,\n",
      "\u001b[36malgo-1-gd3o4_1  |\u001b[0m   `weeks worked in year` = \u001b[32mcol_double()\u001b[39m,\n",
      "\u001b[36malgo-1-gd3o4_1  |\u001b[0m   year = \u001b[32mcol_double()\u001b[39m\n",
      "\u001b[36malgo-1-gd3o4_1  |\u001b[0m )\n",
      "\u001b[36malgo-1-gd3o4_1  |\u001b[0m See spec(...) for full column specifications.\n"
     ]
    },
    {
     "name": "stdout",
     "output_type": "stream",
     "text": [
      "\u001b[36malgo-1-gd3o4_1  |\u001b[0m [1] \"split\"\n",
      "\u001b[36malgo-1-gd3o4_1  |\u001b[0m [1] \"recipe\"\n",
      "\u001b[36malgo-1-gd3o4_1  |\u001b[0m [1] \"model\"\n",
      "\u001b[36malgo-1-gd3o4_1  |\u001b[0m [1] \"fit\"\n",
      "\u001b[36malgo-1-gd3o4_1  |\u001b[0m Warning messages:\n",
      "\u001b[36malgo-1-gd3o4_1  |\u001b[0m 1: Data not binned; too few unique values per bin. Adjust 'min_unique' as needed \n",
      "\u001b[36malgo-1-gd3o4_1  |\u001b[0m 2: Data not binned; too few unique values per bin. Adjust 'min_unique' as needed \n",
      "\u001b[36malgo-1-gd3o4_1  |\u001b[0m [1] \"/opt/ml/model/model.RDS\"\n",
      "\u001b[36malgo-1-gd3o4_1  |\u001b[0m 2020-07-22 15:22:25,387 sagemaker-training-toolkit INFO     Reporting training SUCCESS\n",
      "\u001b[36mtmpylghb1zt_algo-1-gd3o4_1 exited with code 0\n",
      "\u001b[0mAborting on container exit...\n",
      "===== Job Complete =====\n"
     ]
    }
   ],
   "source": [
    "tidymodels.fit({'train': 's3://sagemaker-sample-data-us-east-2/processing/census/census-income.csv'})"
   ]
  },
  {
   "cell_type": "code",
   "execution_count": 102,
   "metadata": {},
   "outputs": [],
   "source": [
    "# recipes is out of date on docker??\n",
    "# couldn't figure out why, but I fixed it by changing some of the name vectors"
   ]
  },
  {
   "cell_type": "code",
   "execution_count": 108,
   "metadata": {},
   "outputs": [
    {
     "ename": "TypeError",
     "evalue": "__init__() missing 4 required positional arguments: 'model_data', 'image', 'role', and 'entry_point'",
     "output_type": "error",
     "traceback": [
      "\u001b[0;31m---------------------------------------------------------------------------\u001b[0m",
      "\u001b[0;31mTypeError\u001b[0m                                 Traceback (most recent call last)",
      "\u001b[0;32m<ipython-input-108-540106a4635b>\u001b[0m in \u001b[0;36m<module>\u001b[0;34m\u001b[0m\n\u001b[0;32m----> 1\u001b[0;31m \u001b[0mtidymodels\u001b[0m\u001b[0;34m.\u001b[0m\u001b[0mdeploy\u001b[0m\u001b[0;34m(\u001b[0m\u001b[0minitial_instance_count\u001b[0m\u001b[0;34m=\u001b[0m\u001b[0;36m1\u001b[0m\u001b[0;34m,\u001b[0m \u001b[0minstance_type\u001b[0m\u001b[0;34m=\u001b[0m\u001b[0;34m'local'\u001b[0m\u001b[0;34m)\u001b[0m\u001b[0;34m\u001b[0m\u001b[0;34m\u001b[0m\u001b[0m\n\u001b[0m",
      "\u001b[0;32m~/anaconda/envs/jupyter/lib/python3.7/site-packages/sagemaker/estimator.py\u001b[0m in \u001b[0;36mdeploy\u001b[0;34m(self, initial_instance_count, instance_type, accelerator_type, endpoint_name, use_compiled_model, update_endpoint, wait, model_name, kms_key, data_capture_config, tags, **kwargs)\u001b[0m\n\u001b[1;32m    705\u001b[0m         \u001b[0;32melse\u001b[0m\u001b[0;34m:\u001b[0m\u001b[0;34m\u001b[0m\u001b[0;34m\u001b[0m\u001b[0m\n\u001b[1;32m    706\u001b[0m             \u001b[0mkwargs\u001b[0m\u001b[0;34m[\u001b[0m\u001b[0;34m\"model_kms_key\"\u001b[0m\u001b[0;34m]\u001b[0m \u001b[0;34m=\u001b[0m \u001b[0mself\u001b[0m\u001b[0;34m.\u001b[0m\u001b[0moutput_kms_key\u001b[0m\u001b[0;34m\u001b[0m\u001b[0;34m\u001b[0m\u001b[0m\n\u001b[0;32m--> 707\u001b[0;31m             \u001b[0mmodel\u001b[0m \u001b[0;34m=\u001b[0m \u001b[0mself\u001b[0m\u001b[0;34m.\u001b[0m\u001b[0mcreate_model\u001b[0m\u001b[0;34m(\u001b[0m\u001b[0;34m**\u001b[0m\u001b[0mkwargs\u001b[0m\u001b[0;34m)\u001b[0m\u001b[0;34m\u001b[0m\u001b[0;34m\u001b[0m\u001b[0m\n\u001b[0m\u001b[1;32m    708\u001b[0m \u001b[0;34m\u001b[0m\u001b[0m\n\u001b[1;32m    709\u001b[0m         \u001b[0mmodel\u001b[0m\u001b[0;34m.\u001b[0m\u001b[0mname\u001b[0m \u001b[0;34m=\u001b[0m \u001b[0mmodel_name\u001b[0m\u001b[0;34m\u001b[0m\u001b[0;34m\u001b[0m\u001b[0m\n",
      "\u001b[0;32m<ipython-input-52-50e6d0f7f7be>\u001b[0m in \u001b[0;36mcreate_model\u001b[0;34m(self, **kwargs)\u001b[0m\n\u001b[1;32m     11\u001b[0m \u001b[0;34m\u001b[0m\u001b[0m\n\u001b[1;32m     12\u001b[0m     \u001b[0;32mdef\u001b[0m \u001b[0mcreate_model\u001b[0m\u001b[0;34m(\u001b[0m\u001b[0mself\u001b[0m\u001b[0;34m,\u001b[0m \u001b[0;34m**\u001b[0m\u001b[0mkwargs\u001b[0m\u001b[0;34m)\u001b[0m\u001b[0;34m:\u001b[0m\u001b[0;34m\u001b[0m\u001b[0;34m\u001b[0m\u001b[0m\n\u001b[0;32m---> 13\u001b[0;31m         \u001b[0;32mreturn\u001b[0m \u001b[0mTidyModelsModel\u001b[0m\u001b[0;34m(\u001b[0m\u001b[0;34m**\u001b[0m\u001b[0mkwargs\u001b[0m\u001b[0;34m)\u001b[0m\u001b[0;34m\u001b[0m\u001b[0;34m\u001b[0m\u001b[0m\n\u001b[0m\u001b[1;32m     14\u001b[0m \u001b[0;34m\u001b[0m\u001b[0m\n",
      "\u001b[0;32m<ipython-input-52-50e6d0f7f7be>\u001b[0m in \u001b[0;36m__init__\u001b[0;34m(self, **kwargs)\u001b[0m\n\u001b[1;32m      3\u001b[0m \u001b[0;34m\u001b[0m\u001b[0m\n\u001b[1;32m      4\u001b[0m     \u001b[0;32mdef\u001b[0m \u001b[0m__init__\u001b[0m\u001b[0;34m(\u001b[0m\u001b[0mself\u001b[0m\u001b[0;34m,\u001b[0m \u001b[0;34m**\u001b[0m\u001b[0mkwargs\u001b[0m\u001b[0;34m)\u001b[0m\u001b[0;34m:\u001b[0m\u001b[0;34m\u001b[0m\u001b[0;34m\u001b[0m\u001b[0m\n\u001b[0;32m----> 5\u001b[0;31m         \u001b[0msuper\u001b[0m\u001b[0;34m(\u001b[0m\u001b[0mTidyModelsModel\u001b[0m\u001b[0;34m,\u001b[0m \u001b[0mself\u001b[0m\u001b[0;34m)\u001b[0m\u001b[0;34m.\u001b[0m\u001b[0m__init__\u001b[0m\u001b[0;34m(\u001b[0m\u001b[0;34m**\u001b[0m\u001b[0mkwargs\u001b[0m\u001b[0;34m)\u001b[0m\u001b[0;34m\u001b[0m\u001b[0;34m\u001b[0m\u001b[0m\n\u001b[0m\u001b[1;32m      6\u001b[0m \u001b[0;34m\u001b[0m\u001b[0m\n\u001b[1;32m      7\u001b[0m \u001b[0;34m\u001b[0m\u001b[0m\n",
      "\u001b[0;31mTypeError\u001b[0m: __init__() missing 4 required positional arguments: 'model_data', 'image', 'role', and 'entry_point'"
     ]
    }
   ],
   "source": [
    "tidymodels.deploy(initial_instance_count=1, instance_type='local')"
   ]
  },
  {
   "cell_type": "code",
   "execution_count": null,
   "metadata": {},
   "outputs": [],
   "source": []
  },
  {
   "cell_type": "code",
   "execution_count": null,
   "metadata": {},
   "outputs": [],
   "source": []
  }
 ],
 "metadata": {
  "kernelspec": {
   "display_name": "Python 3",
   "language": "python",
   "name": "python3"
  },
  "language_info": {
   "codemirror_mode": {
    "name": "ipython",
    "version": 3
   },
   "file_extension": ".py",
   "mimetype": "text/x-python",
   "name": "python",
   "nbconvert_exporter": "python",
   "pygments_lexer": "ipython3",
   "version": "3.7.7"
  }
 },
 "nbformat": 4,
 "nbformat_minor": 4
}
